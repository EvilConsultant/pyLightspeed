{
 "cells": [
  {
   "cell_type": "code",
   "execution_count": 1,
   "metadata": {
    "tags": []
   },
   "outputs": [
    {
     "output_type": "stream",
     "name": "stderr",
     "text": "2020-07-13 09:23:01,295 - DEBUG - Start of program\n"
    }
   ],
   "source": [
    "import logging\n",
    "import requests\n",
    "import json\n",
    "import pandas as pd\n",
    "from datetime import date\n",
    "\n",
    "# Start logging\n",
    "logging.basicConfig(level=logging.DEBUG, format='%(asctime)s - %(levelname)s - %(message)s')\n",
    "logging.debug('Start of program')"
   ]
  },
  {
   "cell_type": "code",
   "execution_count": 2,
   "metadata": {},
   "outputs": [],
   "source": [
    "from pyLightspeed.lsecom import api"
   ]
  },
  {
   "cell_type": "code",
   "execution_count": 3,
   "metadata": {
    "tags": []
   },
   "outputs": [
    {
     "output_type": "stream",
     "name": "stderr",
     "text": "2020-07-13 09:23:01,362 - DEBUG - Start of program\n"
    }
   ],
   "source": [
    "    logging.basicConfig(level=logging.DEBUG, format='%(asctime)s - %(levelname)s - %(message)s')\n",
    "    logging.debug('Start of program')\n",
    "    \n",
    "    KEY_FILE = \"D:\\Development\\.keys\\lightspeed_keys.json\"\n",
    "\n",
    "    with open(KEY_FILE) as f:\n",
    "        keys = json.load(f)\n",
    "\n",
    "    store_data = {\n",
    "                'account_id': keys[\"account_id\"],\n",
    "                'save_path': 'D:\\\\Development\\\\.keys\\\\'\n",
    "                }\n",
    "\n",
    "    credentials = {\n",
    "                'api_key': keys[\"api_key\"],\n",
    "                'api_secret': keys[\"api_secret\"]\n",
    "                }\n",
    "\n",
    ""
   ]
  },
  {
   "cell_type": "code",
   "execution_count": 4,
   "metadata": {
    "tags": []
   },
   "outputs": [
    {
     "output_type": "stream",
     "name": "stderr",
     "text": "2020-07-13 09:23:01,389 - DEBUG - LS ECOM: Creating new Lightspeed Ecom to account_id : 190211\n"
    }
   ],
   "source": [
    "lse = api.Connection(store_data, credentials)"
   ]
  },
  {
   "cell_type": "code",
   "execution_count": 5,
   "metadata": {
    "tags": []
   },
   "outputs": [
    {
     "output_type": "stream",
     "name": "stderr",
     "text": "2020-07-13 09:23:01,444 - DEBUG - Starting new HTTPS connection (1): api.shoplightspeed.com:443\n2020-07-13 09:23:02,021 - DEBUG - https://api.shoplightspeed.com:443 \"GET /en/orders/count.json HTTP/1.1\" 200 None\n2020-07-13 09:23:02,076 - DEBUG - Starting new HTTPS connection (1): api.shoplightspeed.com:443\n2020-07-13 09:23:03,207 - DEBUG - https://api.shoplightspeed.com:443 \"GET /en/orders.json?created_at_min=2020-05-15%2000:00:00&page=1&limit=250 HTTP/1.1\" 200 None\n2020-07-13 09:23:03,592 - DEBUG - Starting new HTTPS connection (1): api.shoplightspeed.com:443\n2020-07-13 09:23:04,076 - DEBUG - https://api.shoplightspeed.com:443 \"GET /en/orders.json?created_at_min=2020-05-15%2000:00:00&page=2&limit=250 HTTP/1.1\" 200 None\n2020-07-13 09:23:04,278 - DEBUG - Starting new HTTPS connection (1): api.shoplightspeed.com:443\n2020-07-13 09:23:04,632 - DEBUG - https://api.shoplightspeed.com:443 \"GET /en/orders.json?created_at_min=2020-05-15%2000:00:00&page=3&limit=250 HTTP/1.1\" 200 None\n"
    }
   ],
   "source": [
    "orders = lse.list(\"orders\", filter=\"created_at_min=2020-05-15 00:00:00\")"
   ]
  },
  {
   "cell_type": "code",
   "execution_count": 6,
   "metadata": {},
   "outputs": [
    {
     "output_type": "execute_result",
     "data": {
      "text/plain": "'3923729 | 3911687 | 3910945 | 3910873 | 3884433 | 3863325 | 3857495 | '"
     },
     "metadata": {},
     "execution_count": 6
    }
   ],
   "source": [
    "data =''\n",
    "for order in orders:\n",
    "    #if order['paymentStatus'] == 'paid' and order['status'] == 'processing_awaiting_shipment' and order['shipmentTitle'] == 'Local Delivery':\n",
    "    if order['paymentStatus'] == 'paid' and order['status'] == 'processing_awaiting_shipment' and 'Local Delivery' not in order['shipmentTitle']:\n",
    "        data = data + str(order['id']) + ' | '\n",
    "data"
   ]
  },
  {
   "cell_type": "code",
   "execution_count": 7,
   "metadata": {},
   "outputs": [],
   "source": [
    "import csv"
   ]
  },
  {
   "cell_type": "code",
   "execution_count": 8,
   "metadata": {},
   "outputs": [],
   "source": [
    "outputFile = open('D:\\\\Data\\\\CloudStation\\\\Vintage\\\\ETLs\\\\Lightspeed Imports\\\\24Seven_import.csv', 'w', newline='')\n",
    "outputDictWriter = csv.DictWriter(outputFile,['OrderNo','Invoice','ConsumerNo','Name','CompanyName','Add1','Add2','City','State','Zip','Phone','Weight','Email','SKU','InsuredValue','PC Type','FTT','FBTA','FBTPC','ML','SV'])\n",
    "outputDictWriter.writeheader()\n",
    "\n",
    "for order in orders:\n",
    "    if order['paymentStatus'] == 'paid' and order['status'] == 'processing_awaiting_shipment' and 'Local Delivery' not in order['shipmentTitle']:\n",
    "        data = {\n",
    "                'OrderNo': order['id'],\n",
    "                'Invoice': order['number'],\n",
    "                'ConsumerNo': order['customer']['resource']['id'],\n",
    "                'Name': order['addressShippingName'],\n",
    "                'CompanyName':  order['addressShippingCompany'] if order['addressShippingCompany']!=False else '',\n",
    "                'Add1': order['addressShippingStreet'],\n",
    "                'Add2': order['addressShippingStreet'],\n",
    "                'City': order['addressShippingCity'],\n",
    "                'State': order['addressShippingRegionData']['code'],\n",
    "                'Zip': order['addressShippingZipcode'],\n",
    "                'Phone': order['phone'],\n",
    "                'Weight': round(order['weight']*0.00220462,2),\n",
    "                'Email': order['email'],\n",
    "                'SKU':order['number'],\n",
    "                'InsuredValue':100,\n",
    "                'PC Type':'Wine',\n",
    "                'FTT':'',\n",
    "                'FBTA':'',\n",
    "                'FBTPC':'',\n",
    "                'ML':'',\n",
    "                'SV':''\n",
    "                }\n",
    "        outputDictWriter.writerow(data)\n",
    "\n",
    "outputFile.close()       \n",
    "    \n",
    "\n"
   ]
  },
  {
   "cell_type": "markdown",
   "metadata": {},
   "source": [
    "## In Excel\n"
   ]
  },
  {
   "cell_type": "code",
   "execution_count": 9,
   "metadata": {},
   "outputs": [],
   "source": [
    "df = pd.DataFrame(columns=['OrderNo','Invoice','ConsumerNo','Name','CompanyName','Add1','Add2','City','State','Zip','Phone','Weight','Email','SKU','InsuredValue','PC Type','FTT','FBTA','FBTPC','ML','SV'])"
   ]
  },
  {
   "cell_type": "code",
   "execution_count": 10,
   "metadata": {},
   "outputs": [],
   "source": [
    "for order in orders:\n",
    "    if order['paymentStatus'] == 'paid' and order['status'] == 'processing_awaiting_shipment' and 'Local Delivery' not in order['shipmentTitle']:\n",
    "        data = {\n",
    "                'OrderNo': order['id'],\n",
    "                'Invoice': order['number'],\n",
    "                'ConsumerNo': order['customer']['resource']['id'],\n",
    "                'Name': order['addressShippingName'],\n",
    "                'CompanyName':  order['addressShippingCompany'] if order['addressShippingCompany']!=False else '',\n",
    "                'Add1': order['addressShippingStreet'],\n",
    "                'Add2': order['addressShippingStreet2'],\n",
    "                'City': order['addressShippingCity'],\n",
    "                'State': order['addressShippingRegionData']['code'],\n",
    "                'Zip': order['addressShippingZipcode'],\n",
    "                'Phone': order['phone'],\n",
    "                'Weight': round(order['weight']*0.00220462,2),\n",
    "                'Email': order['email'],\n",
    "                'SKU':order['number'],\n",
    "                'InsuredValue':100,\n",
    "                'PC Type':'Wine',\n",
    "                'FTT':'',\n",
    "                'FBTA':'',\n",
    "                'FBTPC':'',\n",
    "                'ML':'',\n",
    "                'SV':''\n",
    "                }\n",
    "        df = df.append(data, ignore_index=True)\n",
    " "
   ]
  },
  {
   "cell_type": "code",
   "execution_count": 11,
   "metadata": {},
   "outputs": [],
   "source": [
    "today = date.today()\n",
    "file_name = f'D:\\\\Data\\\\Vintage Team Folder\\\\24Seven Import Files\\\\VIWC_Shipping_{today.strftime(\"%Y_%m_%d\")}.xlsx'\n",
    "df.to_excel(file_name,sheet_name='Sheet1', index=False)"
   ]
  },
  {
   "cell_type": "code",
   "execution_count": null,
   "metadata": {},
   "outputs": [],
   "source": []
  }
 ],
 "metadata": {
  "language_info": {
   "name": "python",
   "codemirror_mode": {
    "name": "ipython",
    "version": 3
   },
   "version": "3.7.4-final"
  },
  "orig_nbformat": 2,
  "file_extension": ".py",
  "mimetype": "text/x-python",
  "name": "python",
  "npconvert_exporter": "python",
  "pygments_lexer": "ipython3",
  "version": 3,
  "kernelspec": {
   "name": "python3",
   "display_name": "Python 3"
  }
 },
 "nbformat": 4,
 "nbformat_minor": 2
}