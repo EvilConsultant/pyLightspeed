{
 "cells": [
  {
   "cell_type": "code",
<<<<<<< HEAD
   "execution_count": 5,
=======
   "execution_count": 23,
>>>>>>> c2cff1f72b3ee02d25ebbb0ea2590fe7c3a5328c
   "metadata": {
    "tags": []
   },
   "outputs": [
    {
     "output_type": "stream",
     "name": "stderr",
<<<<<<< HEAD
     "text": [
      "2021-04-05 11:29:53,546 - DEBUG - Start of program\n"
     ]
=======
     "text": "2020-07-20 10:26:58,637 - DEBUG - Start of program\n"
>>>>>>> c2cff1f72b3ee02d25ebbb0ea2590fe7c3a5328c
    }
   ],
   "source": [
    "import logging\n",
    "import requests\n",
    "import json\n",
    "import pandas as pd\n",
    "from datetime import date\n",
    "\n",
    "# Start logging\n",
    "logging.basicConfig(level=logging.DEBUG, format='%(asctime)s - %(levelname)s - %(message)s')\n",
    "logging.debug('Start of program')"
   ]
  },
  {
   "cell_type": "code",
<<<<<<< HEAD
   "execution_count": 16,
=======
   "execution_count": 24,
>>>>>>> c2cff1f72b3ee02d25ebbb0ea2590fe7c3a5328c
   "metadata": {},
   "outputs": [
    {
     "output_type": "stream",
     "name": "stdout",
     "text": [
      "['D:\\\\Development\\\\Repositories', 'c:\\\\Users\\\\vinou\\\\.vscode\\\\extensions\\\\ms-toolsai.jupyter-2021.3.684299474\\\\pythonFiles\\\\vscode_datascience_helpers\\\\..\\\\.does-not-exist', 'c:\\\\Users\\\\vinou\\\\.vscode\\\\extensions\\\\ms-toolsai.jupyter-2021.3.684299474\\\\pythonFiles', 'c:\\\\Users\\\\vinou\\\\.vscode\\\\extensions\\\\ms-toolsai.jupyter-2021.3.684299474\\\\pythonFiles\\\\lib\\\\python', 'D:\\\\Development\\\\Anaconda3\\\\python38.zip', 'D:\\\\Development\\\\Anaconda3\\\\DLLs', 'D:\\\\Development\\\\Anaconda3\\\\lib', 'D:\\\\Development\\\\Anaconda3', '', 'D:\\\\Development\\\\Anaconda3\\\\lib\\\\site-packages', 'D:\\\\Development\\\\Anaconda3\\\\lib\\\\site-packages\\\\win32', 'D:\\\\Development\\\\Anaconda3\\\\lib\\\\site-packages\\\\win32\\\\lib', 'D:\\\\Development\\\\Anaconda3\\\\lib\\\\site-packages\\\\Pythonwin', 'D:\\\\Development\\\\Anaconda3\\\\lib\\\\site-packages\\\\IPython\\\\extensions', 'C:\\\\Users\\\\vinou\\\\.ipython', 'D:\\\\Development\\\\Repositories\\\\WineFoundry\\\\pyLightspeed', 'D:\\\\Development\\\\Repositories\\\\WineFoundry\\\\pyLightspeed', 'D:\\\\Development\\\\Repositories\\\\WineFoundry\\\\pyLightspeed', 'D:\\\\Development\\\\Repositories\\\\WineFoundry\\\\pyLightspeed']\n"
     ]
    }
   ],
   "source": [
    "sys.path.append('D:\\Development\\Repositories\\WineFoundry\\pyLightspeed')\n",
    "print(sys.path)\n",
    "from lsecom import api_dev as lsecom"
   ]
  },
  {
   "cell_type": "code",
   "execution_count": 17,
   "metadata": {},
   "outputs": [
    {
     "output_type": "stream",
     "name": "stderr",
     "text": [
      "2021-04-05 11:35:08,530 - INFO - LSECOM_API: Creating new Lightspeed Connection with D:\\Development\\.keys\\vintage_keys.json (Store: 190211)\n"
     ]
    }
   ],
   "source": [
    "store_datafile = 'D:\\\\Development\\\\.keys\\\\vintage_keys.json'\n",
    "lse = lsecom.Connection(store_datafile)"
   ]
  },
  {
   "cell_type": "code",
<<<<<<< HEAD
   "execution_count": 10,
=======
   "execution_count": 25,
>>>>>>> c2cff1f72b3ee02d25ebbb0ea2590fe7c3a5328c
   "metadata": {
    "tags": []
   },
   "outputs": [
    {
     "output_type": "stream",
     "name": "stderr",
<<<<<<< HEAD
     "text": [
      "2021-04-05 11:31:55,505 - DEBUG - Start of program\n"
     ]
    },
    {
     "output_type": "error",
     "ename": "FileNotFoundError",
     "evalue": "[Errno 2] No such file or directory: 'D:\\\\Development\\\\.keys\\\\lightspeed_keys.json'",
     "traceback": [
      "\u001b[1;31m---------------------------------------------------------------------------\u001b[0m",
      "\u001b[1;31mFileNotFoundError\u001b[0m                         Traceback (most recent call last)",
      "\u001b[1;32m<ipython-input-10-d4d479d4b504>\u001b[0m in \u001b[0;36m<module>\u001b[1;34m\u001b[0m\n\u001b[0;32m      5\u001b[0m \u001b[0mCODES_FILE\u001b[0m \u001b[1;33m=\u001b[0m \u001b[1;34m\"vintage_codes.json\"\u001b[0m\u001b[1;33m\u001b[0m\u001b[1;33m\u001b[0m\u001b[0m\n\u001b[0;32m      6\u001b[0m \u001b[1;33m\u001b[0m\u001b[0m\n\u001b[1;32m----> 7\u001b[1;33m \u001b[1;32mwith\u001b[0m \u001b[0mopen\u001b[0m\u001b[1;33m(\u001b[0m\u001b[0mKEY_FILE\u001b[0m\u001b[1;33m)\u001b[0m \u001b[1;32mas\u001b[0m \u001b[0mf\u001b[0m\u001b[1;33m:\u001b[0m\u001b[1;33m\u001b[0m\u001b[1;33m\u001b[0m\u001b[0m\n\u001b[0m\u001b[0;32m      8\u001b[0m     \u001b[0mkeys\u001b[0m \u001b[1;33m=\u001b[0m \u001b[0mjson\u001b[0m\u001b[1;33m.\u001b[0m\u001b[0mload\u001b[0m\u001b[1;33m(\u001b[0m\u001b[0mf\u001b[0m\u001b[1;33m)\u001b[0m\u001b[1;33m\u001b[0m\u001b[1;33m\u001b[0m\u001b[0m\n\u001b[0;32m      9\u001b[0m \u001b[1;33m\u001b[0m\u001b[0m\n",
      "\u001b[1;31mFileNotFoundError\u001b[0m: [Errno 2] No such file or directory: 'D:\\\\Development\\\\.keys\\\\lightspeed_keys.json'"
     ]
=======
     "text": "2020-07-20 10:26:58,675 - DEBUG - Start of program\n"
>>>>>>> c2cff1f72b3ee02d25ebbb0ea2590fe7c3a5328c
    }
   ],
   "source": [
    "    logging.basicConfig(level=logging.DEBUG, format='%(asctime)s - %(levelname)s - %(message)s')\n",
    "    logging.debug('Start of program')\n",
    "    \n",
    "    KEY_FILE = \"D:\\Development\\.keys\\lightspeed_keys.json\"\n",
    "    CODES_FILE = \"vintage_codes.json\"\n",
    "\n",
    "    with open(KEY_FILE) as f:\n",
    "        keys = json.load(f)\n",
    "\n",
    "    store_data = {\n",
    "                'account_id': keys[\"account_id\"],\n",
    "                'save_path': 'D:\\\\Development\\\\.keys\\\\'\n",
    "                }\n",
    "\n",
    "    credentials = {\n",
    "                'api_key': keys[\"api_key\"],\n",
    "                'api_secret': keys[\"api_secret\"]\n",
    "                }\n",
<<<<<<< HEAD
    "\n"
=======
    "\n",
    ""
   ]
  },
  {
   "cell_type": "code",
   "execution_count": 26,
   "metadata": {
    "tags": []
   },
   "outputs": [
    {
     "output_type": "stream",
     "name": "stderr",
     "text": "2020-07-20 10:26:58,691 - DEBUG - LS ECOM: Creating new Lightspeed Ecom to account_id : 190211\n"
    }
   ],
   "source": [
    "lse = api.Connection(store_data, credentials)"
>>>>>>> c2cff1f72b3ee02d25ebbb0ea2590fe7c3a5328c
   ]
  },
  {
   "cell_type": "code",
<<<<<<< HEAD
   "execution_count": 18,
=======
   "execution_count": 27,
>>>>>>> c2cff1f72b3ee02d25ebbb0ea2590fe7c3a5328c
   "metadata": {
    "tags": []
   },
   "outputs": [
    {
     "output_type": "stream",
     "name": "stderr",
<<<<<<< HEAD
     "text": [
      "2021-04-05 11:35:33,353 - DEBUG - Starting new HTTPS connection (1): api.shoplightspeed.com:443\n",
      "2021-04-05 11:35:33,659 - DEBUG - https://api.shoplightspeed.com:443 \"GET /en/orders/count.json HTTP/1.1\" 200 None\n",
      "2021-04-05 11:35:33,664 - DEBUG - Starting new HTTPS connection (1): api.shoplightspeed.com:443\n",
      "2021-04-05 11:35:34,049 - DEBUG - https://api.shoplightspeed.com:443 \"GET /en/orders.json?created_at_min=2021-04-01%2000:00:00&page=1&limit=250 HTTP/1.1\" 200 None\n",
      "2021-04-05 11:35:34,057 - DEBUG - Starting new HTTPS connection (1): api.shoplightspeed.com:443\n",
      "2021-04-05 11:35:34,510 - DEBUG - https://api.shoplightspeed.com:443 \"GET /en/orders.json?created_at_min=2021-04-01%2000:00:00&page=2&limit=250 HTTP/1.1\" 200 None\n",
      "2021-04-05 11:35:34,518 - DEBUG - Starting new HTTPS connection (1): api.shoplightspeed.com:443\n",
      "2021-04-05 11:35:34,714 - DEBUG - https://api.shoplightspeed.com:443 \"GET /en/orders.json?created_at_min=2021-04-01%2000:00:00&page=3&limit=250 HTTP/1.1\" 200 None\n",
      "2021-04-05 11:35:34,720 - DEBUG - Starting new HTTPS connection (1): api.shoplightspeed.com:443\n",
      "2021-04-05 11:35:34,897 - DEBUG - https://api.shoplightspeed.com:443 \"GET /en/orders.json?created_at_min=2021-04-01%2000:00:00&page=4&limit=250 HTTP/1.1\" 200 None\n",
      "2021-04-05 11:35:34,903 - DEBUG - Starting new HTTPS connection (1): api.shoplightspeed.com:443\n",
      "2021-04-05 11:35:35,089 - DEBUG - https://api.shoplightspeed.com:443 \"GET /en/orders.json?created_at_min=2021-04-01%2000:00:00&page=5&limit=250 HTTP/1.1\" 200 None\n",
      "2021-04-05 11:35:35,095 - DEBUG - Starting new HTTPS connection (1): api.shoplightspeed.com:443\n",
      "2021-04-05 11:35:35,277 - DEBUG - https://api.shoplightspeed.com:443 \"GET /en/orders.json?created_at_min=2021-04-01%2000:00:00&page=6&limit=250 HTTP/1.1\" 200 None\n",
      "2021-04-05 11:35:35,285 - DEBUG - Starting new HTTPS connection (1): api.shoplightspeed.com:443\n",
      "2021-04-05 11:35:35,495 - DEBUG - https://api.shoplightspeed.com:443 \"GET /en/orders.json?created_at_min=2021-04-01%2000:00:00&page=7&limit=250 HTTP/1.1\" 200 None\n"
     ]
=======
     "text": "2020-07-20 10:26:58,712 - DEBUG - Starting new HTTPS connection (1): api.shoplightspeed.com:443\n2020-07-20 10:26:59,264 - DEBUG - https://api.shoplightspeed.com:443 \"GET /en/orders/count.json HTTP/1.1\" 200 None\n2020-07-20 10:26:59,271 - DEBUG - Starting new HTTPS connection (1): api.shoplightspeed.com:443\n2020-07-20 10:27:00,320 - DEBUG - https://api.shoplightspeed.com:443 \"GET /en/orders.json?created_at_min=2020-05-15%2000:00:00&page=1&limit=250 HTTP/1.1\" 200 None\n2020-07-20 10:27:00,525 - DEBUG - Starting new HTTPS connection (1): api.shoplightspeed.com:443\n2020-07-20 10:27:01,101 - DEBUG - https://api.shoplightspeed.com:443 \"GET /en/orders.json?created_at_min=2020-05-15%2000:00:00&page=2&limit=250 HTTP/1.1\" 200 None\n2020-07-20 10:27:01,258 - DEBUG - Starting new HTTPS connection (1): api.shoplightspeed.com:443\n2020-07-20 10:27:01,524 - DEBUG - https://api.shoplightspeed.com:443 \"GET /en/orders.json?created_at_min=2020-05-15%2000:00:00&page=3&limit=250 HTTP/1.1\" 200 None\n"
>>>>>>> c2cff1f72b3ee02d25ebbb0ea2590fe7c3a5328c
    }
   ],
   "source": [
    "#lse = api.Connection(store_data, credentials, codes_file=CODES_FILE)\n",
    "orders = lse.list(\"orders\", filter=\"created_at_min=2021-04-01 00:00:00\")"
   ]
  },
  {
   "cell_type": "code",
<<<<<<< HEAD
   "execution_count": 19,
=======
   "execution_count": 28,
>>>>>>> c2cff1f72b3ee02d25ebbb0ea2590fe7c3a5328c
   "metadata": {},
   "outputs": [
    {
     "output_type": "execute_result",
     "data": {
<<<<<<< HEAD
      "text/plain": [
       "'7693522 | 7669635 | '"
      ]
     },
     "metadata": {},
     "execution_count": 19
=======
      "text/plain": "'4008954 | '"
     },
     "metadata": {},
     "execution_count": 28
>>>>>>> c2cff1f72b3ee02d25ebbb0ea2590fe7c3a5328c
    }
   ],
   "source": [
    "data =''\n",
    "for order in orders:\n",
    "    #if order['paymentStatus'] == 'paid' and order['status'] == 'processing_awaiting_shipment' and order['shipmentTitle'] == 'Local Delivery':\n",
    "    if order['paymentStatus'] == 'paid' and order['status'] == 'processing_awaiting_shipment' and 'Local Delivery' not in order['shipmentTitle']:\n",
    "        data = data + str(order['id']) + ' | '\n",
    "data"
   ]
  },
  {
   "cell_type": "code",
<<<<<<< HEAD
   "execution_count": 20,
=======
   "execution_count": 29,
>>>>>>> c2cff1f72b3ee02d25ebbb0ea2590fe7c3a5328c
   "metadata": {},
   "outputs": [],
   "source": [
    "import csv"
   ]
  },
  {
   "cell_type": "code",
<<<<<<< HEAD
   "execution_count": 21,
=======
   "execution_count": 30,
>>>>>>> c2cff1f72b3ee02d25ebbb0ea2590fe7c3a5328c
   "metadata": {},
   "outputs": [],
   "source": [
    "outputFile = open('D:\\\\Data\\\\CloudStation\\\\Vintage\\\\ETLs\\\\Lightspeed Imports\\\\24Seven_import.csv', 'w', newline='')\n",
    "outputDictWriter = csv.DictWriter(outputFile,['OrderNo','Invoice','ConsumerNo','Name','CompanyName','Add1','Add2','City','State','Zip','Phone','Weight','Email','SKU','InsuredValue','PC Type','FTT','FBTA','FBTPC','ML','SV'])\n",
    "outputDictWriter.writeheader()\n",
    "\n",
    "for order in orders:\n",
    "    if order['paymentStatus'] == 'paid' and order['status'] == 'processing_awaiting_shipment' and 'Local Delivery' not in order['shipmentTitle']:\n",
    "        data = {\n",
    "                'OrderNo': order['id'],\n",
    "                'Invoice': order['number'],\n",
    "                'ConsumerNo': order['customer']['resource']['id'],\n",
    "                'Name': order['addressShippingName'],\n",
    "                'CompanyName':  order['addressShippingCompany'] if order['addressShippingCompany']!=False else '',\n",
    "                'Add1': order['addressShippingStreet'],\n",
    "                'Add2': order['addressShippingStreet'],\n",
    "                'City': order['addressShippingCity'],\n",
    "                'State': order['addressShippingRegionData']['code'],\n",
    "                'Zip': order['addressShippingZipcode'],\n",
    "                'Phone': order['phone'],\n",
    "                'Weight': round(order['weight']*0.00220462,2),\n",
    "                'Email': order['email'],\n",
    "                'SKU':'SKU1',\n",
    "                'InsuredValue':100,\n",
    "                'PC Type':'Wine',\n",
    "                'FTT':'',\n",
    "                'FBTA':'',\n",
    "                'FBTPC':'',\n",
    "                'ML':'',\n",
    "                'SV':''\n",
    "                }\n",
    "        outputDictWriter.writerow(data)\n",
    "\n",
    "outputFile.close()       \n",
    "    \n",
    "\n"
   ]
  },
  {
   "cell_type": "markdown",
   "metadata": {},
   "source": [
    "## In Excel\n"
   ]
  },
  {
   "cell_type": "code",
<<<<<<< HEAD
   "execution_count": 24,
=======
   "execution_count": 31,
>>>>>>> c2cff1f72b3ee02d25ebbb0ea2590fe7c3a5328c
   "metadata": {},
   "outputs": [],
   "source": [
    "df = pd.DataFrame(columns=['OrderNo','Invoice','ConsumerNo','Name','CompanyName','Add1','Add2','City','State','Zip','Phone','Weight','Email','SKU','InsuredValue','PC Type','FTT','FBTA','FBTPC','ML','SV'])"
   ]
  },
  {
   "cell_type": "code",
<<<<<<< HEAD
   "execution_count": 25,
=======
   "execution_count": 32,
>>>>>>> c2cff1f72b3ee02d25ebbb0ea2590fe7c3a5328c
   "metadata": {},
   "outputs": [],
   "source": [
    "for order in orders:\n",
    "    if order['paymentStatus'] == 'paid' and order['status'] == 'processing_awaiting_shipment' and 'Local Delivery' not in order['shipmentTitle']:\n",
    "        data = {\n",
    "                'OrderNo': order['id'],\n",
    "                'Invoice': order['number'],\n",
    "                'ConsumerNo': order['customer']['resource']['id'],\n",
    "                'Name': order['addressShippingName'],\n",
    "                'CompanyName':  order['addressShippingCompany'] if order['addressShippingCompany']!=False else '',\n",
    "                'Add1': order['addressShippingStreet'],\n",
    "                'Add2': order['addressShippingStreet2'],\n",
    "                'City': order['addressShippingCity'],\n",
    "                'State': order['addressShippingRegionData']['code'],\n",
    "                'Zip': order['addressShippingZipcode'],\n",
    "                'Phone': order['phone'],\n",
    "                'Weight': round(order['weight']*0.00220462,2),\n",
    "                'Email': order['email'],\n",
    "                'SKU':'SKU1',\n",
    "                'InsuredValue':100,\n",
    "                'PC Type':'Wine',\n",
    "                'FTT':'',\n",
    "                'FBTA':'',\n",
    "                'FBTPC':'',\n",
    "                'ML':'',\n",
    "                'SV':''\n",
    "                }\n",
    "        df = df.append(data, ignore_index=True)\n",
    " "
   ]
  },
  {
   "cell_type": "code",
<<<<<<< HEAD
   "execution_count": 26,
=======
   "execution_count": 33,
>>>>>>> c2cff1f72b3ee02d25ebbb0ea2590fe7c3a5328c
   "metadata": {},
   "outputs": [],
   "source": [
    "today = date.today()\n",
    "file_name = f'D:\\\\Data\\\\Vintage Team Folder\\\\24Seven Import Files\\\\VIWC_Shipping_{today.strftime(\"%Y_%m_%d\")}.xlsx'\n",
    "df.to_excel(file_name,sheet_name='Sheet1', index=False)"
   ]
  },
  {
   "cell_type": "code",
   "execution_count": null,
   "metadata": {},
   "outputs": [],
   "source": []
  }
 ],
 "metadata": {
  "language_info": {
   "name": "python",
   "codemirror_mode": {
    "name": "ipython",
    "version": 3
   },
   "version": "3.8.5-final"
  },
  "orig_nbformat": 2,
  "file_extension": ".py",
  "mimetype": "text/x-python",
  "name": "python",
  "npconvert_exporter": "python",
  "pygments_lexer": "ipython3",
  "version": 3,
  "kernelspec": {
   "name": "python3",
   "display_name": "Python 3",
   "language": "python"
  }
 },
 "nbformat": 4,
 "nbformat_minor": 2
}