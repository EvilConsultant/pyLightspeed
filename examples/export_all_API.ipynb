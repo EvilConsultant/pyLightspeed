{
 "cells": [
  {
   "cell_type": "markdown",
   "metadata": {},
   "source": [
    "# Export Data via API for Import to Database\n",
    "\n",
    "This exports all the major data from Lightspeed POS to spreadsheets. This is helpful if you need to migrate off lightspeed, or you just want backups of all the major things"
   ]
  },
  {
   "cell_type": "code",
   "execution_count": 6,
   "metadata": {
    "tags": []
   },
   "outputs": [
    {
     "output_type": "stream",
     "name": "stderr",
     "text": [
      "2020-11-19 19:28:59,437 - DEBUG - Start of program\n"
     ]
    }
   ],
   "source": [
    "import logging\n",
    "import requests\n",
    "import json\n",
    "import pandas as pd\n",
    "\n",
    "# Start logging\n",
    "logging.basicConfig(level=logging.DEBUG, format='%(asctime)s - %(levelname)s - %(message)s')\n",
    "logging.debug('Start of program')\n"
   ]
  },
  {
   "cell_type": "markdown",
   "metadata": {},
   "source": [
    "## Import the Module\n",
    "Make sure your environment paths are set correctly if you are getting module not found errors."
   ]
  },
  {
   "cell_type": "code",
   "execution_count": 7,
   "metadata": {},
   "outputs": [],
   "source": [
    "from pyLightspeed.lsretail import api\n",
    "from pyLightspeed.lsecom import api as lsecom"
   ]
  },
  {
   "cell_type": "markdown",
   "metadata": {},
   "source": [
    "## Get Keys\n",
    "This example uses a file you will have to create on your local machine to store keys. This is not best practice - you should probably store your keys in environment variables - but is simpler for people just trying to test and play. See the example files in example\\data and adjust with your information."
   ]
  },
  {
   "cell_type": "code",
   "execution_count": 8,
   "metadata": {},
   "outputs": [],
   "source": [
    "KEY_FILE = \"D:\\Development\\.keys\\lightspeed_keys.json\"\n",
    "CODES_FILE = \"vintage_codes.json\"\n",
    "\n",
    "\n",
    "\n",
    "with open(KEY_FILE) as f:\n",
    "    keys = json.load(f)\n",
    "\n",
    "store_data = {\n",
    "            'account_id': keys[\"account_id\"],\n",
    "            'save_path': 'D:\\\\Development\\\\.keys\\\\'\n",
    "            }\n",
    "\n",
    "credentials = {\n",
    "            'client_id': keys[\"client_id\"],\n",
    "            'client_secret': keys[\"client_secret\"],\n",
    "            'api_key': keys[\"api_key\"],\n",
    "            'api_secret': keys[\"api_secret\"]\n",
    "            }"
   ]
  },
  {
   "cell_type": "markdown",
   "metadata": {},
   "source": [
    "## Create a Connection\n",
    "Call the connection class, which will return an active connection to Lightspeed."
   ]
  },
  {
   "cell_type": "code",
   "execution_count": 9,
   "metadata": {},
   "outputs": [],
   "source": [
    "def write_out(filepath, resource):\n",
    "    to_json = open(filepath + '.json', 'w')\n",
    "    to_json.write(json.dumps(resource, indent=4))\n",
    "    to_json.close()\n",
    "    pd.DataFrame(resource).to_csv(filepath +'.csv', index=False, encoding='utf-8-sig')\n",
    "    logging.debug(f'Wrote data to {filepath}')"
   ]
  },
  {
   "cell_type": "code",
   "execution_count": 10,
   "metadata": {
    "tags": []
   },
   "outputs": [
    {
     "output_type": "error",
     "ename": "TypeError",
     "evalue": "__init__() missing 1 required positional argument: 'codes_file'",
     "traceback": [
      "\u001b[1;31m---------------------------------------------------------------------------\u001b[0m",
      "\u001b[1;31mTypeError\u001b[0m                                 Traceback (most recent call last)",
      "\u001b[1;32m<ipython-input-10-295ebcae6eb5>\u001b[0m in \u001b[0;36m<module>\u001b[1;34m\u001b[0m\n\u001b[0;32m      1\u001b[0m \u001b[1;31m# Creates the connection to lightspeed, and returns a connection object with useful properties\u001b[0m\u001b[1;33m\u001b[0m\u001b[1;33m\u001b[0m\u001b[1;33m\u001b[0m\u001b[0m\n\u001b[1;32m----> 2\u001b[1;33m \u001b[0mlsr\u001b[0m \u001b[1;33m=\u001b[0m \u001b[0mapi\u001b[0m\u001b[1;33m.\u001b[0m\u001b[0mConnection\u001b[0m\u001b[1;33m(\u001b[0m\u001b[0mstore_data\u001b[0m\u001b[1;33m,\u001b[0m \u001b[0mcredentials\u001b[0m\u001b[1;33m)\u001b[0m\u001b[1;33m\u001b[0m\u001b[1;33m\u001b[0m\u001b[0m\n\u001b[0m\u001b[0;32m      3\u001b[0m \u001b[1;33m\u001b[0m\u001b[0m\n\u001b[0;32m      4\u001b[0m \u001b[0mlse\u001b[0m \u001b[1;33m=\u001b[0m \u001b[0mlsecom\u001b[0m\u001b[1;33m.\u001b[0m\u001b[0mConnection\u001b[0m\u001b[1;33m(\u001b[0m\u001b[0mstore_data\u001b[0m\u001b[1;33m,\u001b[0m \u001b[0mcredentials\u001b[0m\u001b[1;33m)\u001b[0m\u001b[1;33m\u001b[0m\u001b[1;33m\u001b[0m\u001b[0m\n",
      "\u001b[1;31mTypeError\u001b[0m: __init__() missing 1 required positional argument: 'codes_file'"
     ]
    }
   ],
   "source": [
    "# Creates the connection to lightspeed, and returns a connection object with useful properties\n",
    "lsr = api.Connection(store_data, credentials, codes_file = CODES_FILE)\n",
    "\n",
    "lse = lsecom.Connection(store_data, credentials, codes_file = CODES_FILE)\n"
   ]
  },
  {
   "cell_type": "markdown",
   "metadata": {},
   "source": [
    "## Export things\n",
    "\n",
    "This takes a tuple of API endpoints (make sure they are spelled right) and loops through them, dumping the results to a .csn and raw JSON file"
   ]
  },
  {
   "cell_type": "code",
   "execution_count": null,
   "metadata": {
    "tags": [
     "outputPrepend"
    ]
   },
   "outputs": [],
   "source": [
    "#Get a list of things\n",
    "\n",
    "exports = ('Sale', 'SaleLine','CustomerType','Manufacturer','Vendor', 'Order', 'OrderLine')\n",
    "#These are updated rarely, so likely don't need to run them, but here if you want to refresh\n",
    "#exports = ('Category','Employee', 'Register','CustomerType','TaxCategory' )\n",
    "\n",
    "\n",
    "for export in exports:\n",
    "    resource = lsr.list(export, filter='archived=true')\n",
    "    write_out(lse.save_path + export, resource)\n",
    "\n"
   ]
  },
  {
   "cell_type": "markdown",
   "metadata": {},
   "source": [
    "### Customers are Special\n",
    "For Customers we want to load with the Contact area"
   ]
  },
  {
   "cell_type": "code",
   "execution_count": null,
   "metadata": {
    "tags": [
     "outputPrepend"
    ]
   },
   "outputs": [],
   "source": [
    "customers = lsr.list(\"Customer\", filter = 'load_relations=[\"Contact\"]&archived=true')\n",
    "write_out(lse.save_path + 'Customer_Contact', customers)"
   ]
  },
  {
   "cell_type": "code",
   "execution_count": null,
   "metadata": {
    "tags": []
   },
   "outputs": [],
   "source": [
    "# Items are Special\n",
    "# We need to get some Quantity on Hand information, so we need to include the relationship.\n",
    "items = lsr.list(\"Item\", filter = 'load_relations=[\"ItemShops\"]&archived=true')\n",
    "write_out(lse.save_path + 'Item_Shop', items)\n"
   ]
  },
  {
   "cell_type": "markdown",
   "metadata": {},
   "source": [
    "# Export eCom transactions"
   ]
  },
  {
   "cell_type": "code",
   "execution_count": null,
   "metadata": {
    "tags": []
   },
   "outputs": [],
   "source": [
    "#Get a list of things\n",
    "\n",
    "#exports = ('orders', 'customers', 'products')\n",
    "exports = ('orders', 'customers', 'products', 'filters', 'tags','discounts')\n",
    "#exports = ('orders', 'customers', 'products')\n",
    "\n",
    "\n",
    "for export in exports:\n",
    "    resource = lse.list(export)\n",
    "    write_out(lse.save_path + 'ecom_' + export, resource)\n",
    " \n"
   ]
  },
  {
   "cell_type": "code",
   "execution_count": null,
   "metadata": {},
   "outputs": [],
   "source": [
    "# orders = lse.list('orders')\n",
    "# order_products = []\n",
    "# write_out(lse.save_path+'/'+ 'ecom_' + export, orders)\n",
    "\n",
    "# for order in orders:\n",
    "#     resource = lse.list(order['products']['resource']['url'])\n",
    "#     all_data = lse.response.json()\n",
    "#     order_products.extend(all_data)\n",
    "    \n",
    "    \n",
    "\n",
    "\n",
    "#     while total_amount > current_offset:\n",
    "        \n",
    "#         querystring = {'offset':current_offset, 'limit':current_limit}\n",
    "#         self.response = requests.get(url, params=querystring, headers=self.headers)\n",
    "#         self.response.raise_for_status()\n",
    "#         all_data = self.response.json()\n",
    "#         all_resources.extend(all_data[resource])\n",
    "#         current_offset = current_offset + current_limit"
   ]
  }
 ],
 "metadata": {
  "language_info": {
   "name": "python",
   "codemirror_mode": {
    "name": "ipython",
    "version": 3
   },
   "version": "3.7.4-final"
  },
  "orig_nbformat": 2,
  "file_extension": ".py",
  "mimetype": "text/x-python",
  "name": "python",
  "npconvert_exporter": "python",
  "pygments_lexer": "ipython3",
  "version": 3,
  "kernelspec": {
   "name": "python3",
   "display_name": "Python 3"
  }
 },
 "nbformat": 4,
 "nbformat_minor": 2
}