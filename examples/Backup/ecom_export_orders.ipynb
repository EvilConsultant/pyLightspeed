{
 "cells": [
  {
   "cell_type": "code",
   "execution_count": 1,
   "metadata": {
    "tags": []
   },
   "outputs": [
    {
     "output_type": "stream",
     "name": "stderr",
     "text": [
      "2020-10-29 08:26:48,210 - DEBUG - Start of program\n"
     ]
    }
   ],
   "source": [
    "import logging\n",
    "import requests\n",
    "import json\n",
    "import pandas as pd\n",
    "from datetime import date\n",
    "\n",
    "# Start logging\n",
    "logging.basicConfig(level=logging.DEBUG, format='%(asctime)s - %(levelname)s - %(message)s')\n",
    "logging.debug('Start of program')"
   ]
  },
  {
   "cell_type": "code",
   "execution_count": 2,
   "metadata": {},
   "outputs": [],
   "source": [
    "from pyLightspeed.lsecom import api"
   ]
  },
  {
   "cell_type": "code",
   "execution_count": 3,
   "metadata": {
    "tags": []
   },
   "outputs": [
    {
     "output_type": "stream",
     "name": "stderr",
     "text": [
      "2020-10-29 08:26:48,261 - DEBUG - Start of program\n"
     ]
    }
   ],
   "source": [
    "    logging.basicConfig(level=logging.DEBUG, format='%(asctime)s - %(levelname)s - %(message)s')\n",
    "    logging.debug('Start of program')\n",
    "    \n",
    "    KEY_FILE = \"D:\\Development\\.keys\\lightspeed_keys.json\"\n",
    "\n",
    "    with open(KEY_FILE) as f:\n",
    "        keys = json.load(f)\n",
    "\n",
    "    store_data = {\n",
    "                'account_id': keys[\"account_id\"],\n",
    "                'save_path': 'D:\\\\Development\\\\.keys\\\\'\n",
    "                }\n",
    "\n",
    "    credentials = {\n",
    "                'api_key': keys[\"api_key\"],\n",
    "                'api_secret': keys[\"api_secret\"]\n",
    "                }\n",
    "\n",
    ""
   ]
  },
  {
   "cell_type": "code",
   "execution_count": 4,
   "metadata": {
    "tags": []
   },
   "outputs": [
    {
     "output_type": "error",
     "ename": "NameError",
     "evalue": "name 'lse' is not defined",
     "traceback": [
      "\u001b[1;31m---------------------------------------------------------------------------\u001b[0m",
      "\u001b[1;31mNameError\u001b[0m                                 Traceback (most recent call last)",
      "\u001b[1;32m<ipython-input-4-7dea1335db3d>\u001b[0m in \u001b[0;36m<module>\u001b[1;34m\u001b[0m\n\u001b[1;32m----> 1\u001b[1;33m \u001b[0morders\u001b[0m \u001b[1;33m=\u001b[0m \u001b[0mlse\u001b[0m\u001b[1;33m.\u001b[0m\u001b[0mlist\u001b[0m\u001b[1;33m(\u001b[0m\u001b[1;34m\"orders\"\u001b[0m\u001b[1;33m,\u001b[0m \u001b[0mfilter\u001b[0m\u001b[1;33m=\u001b[0m\u001b[1;34m\"created_at_min=2020-09-15 00:00:00\"\u001b[0m\u001b[1;33m)\u001b[0m\u001b[1;33m\u001b[0m\u001b[1;33m\u001b[0m\u001b[0m\n\u001b[0m",
      "\u001b[1;31mNameError\u001b[0m: name 'lse' is not defined"
     ]
    }
   ],
   "source": [
    "orders = lse.list(\"orders\", filter=\"created_at_min=2020-09-15 00:00:00\")"
   ]
  },
  {
   "cell_type": "code",
   "execution_count": 17,
   "metadata": {},
   "outputs": [
    {
     "output_type": "execute_result",
     "data": {
      "text/plain": [
       "'5092897 | 5090227 | 5089434 | 5065529 | 5058806 | 5051938 | '"
      ]
     },
     "metadata": {},
     "execution_count": 17
    }
   ],
   "source": [
    "data =''\n",
    "for order in orders:\n",
    "    #if order['paymentStatus'] == 'paid' and order['status'] == 'processing_awaiting_shipment' and order['shipmentTitle'] == 'Local Delivery':\n",
    "    if order['paymentStatus'] == 'paid' and order['status'] == 'processing_awaiting_shipment' and 'Local Delivery' not in order['shipmentTitle']:\n",
    "        data = data + str(order['id']) + ' | '\n",
    "data"
   ]
  },
  {
   "cell_type": "code",
   "execution_count": 18,
   "metadata": {},
   "outputs": [],
   "source": [
    "import csv"
   ]
  },
  {
   "cell_type": "code",
   "execution_count": 19,
   "metadata": {},
   "outputs": [],
   "source": [
    "outputFile = open('D:\\\\Data\\\\CloudStation\\\\Vintage\\\\ETLs\\\\Lightspeed Imports\\\\24Seven_import.csv', 'w', newline='')\n",
    "outputDictWriter = csv.DictWriter(outputFile,['OrderNo','Invoice','ConsumerNo','Name','CompanyName','Add1','Add2','City','State','Zip','Phone','Weight','Email','SKU','InsuredValue','PC Type','FTT','FBTA','FBTPC','ML','SV'])\n",
    "outputDictWriter.writeheader()\n",
    "\n",
    "for order in orders:\n",
    "    if order['paymentStatus'] == 'paid' and order['status'] == 'processing_awaiting_shipment' and 'Local Delivery' not in order['shipmentTitle']:\n",
    "        data = {\n",
    "                'OrderNo': order['id'],\n",
    "                'Invoice': order['number'],\n",
    "                'ConsumerNo': order['customer']['resource']['id'],\n",
    "                'Name': order['addressShippingName'],\n",
    "                'CompanyName':  order['addressShippingCompany'] if order['addressShippingCompany']!=False else '',\n",
    "                'Add1': order['addressShippingStreet'],\n",
    "                'Add2': order['addressShippingStreet'],\n",
    "                'City': order['addressShippingCity'],\n",
    "                'State': order['addressShippingRegionData']['code'],\n",
    "                'Zip': order['addressShippingZipcode'],\n",
    "                'Phone': order['phone'],\n",
    "                'Weight': round(order['weight']*0.00220462,2),\n",
    "                'Email': order['email'],\n",
    "                'SKU':'SKU1',\n",
    "                'InsuredValue':100,\n",
    "                'PC Type':'Wine',\n",
    "                'FTT':'',\n",
    "                'FBTA':'',\n",
    "                'FBTPC':'',\n",
    "                'ML':'',\n",
    "                'SV':''\n",
    "                }\n",
    "        outputDictWriter.writerow(data)\n",
    "\n",
    "outputFile.close()       \n",
    "    \n",
    "\n"
   ]
  },
  {
   "cell_type": "markdown",
   "metadata": {},
   "source": [
    "## In Excel\n"
   ]
  },
  {
   "cell_type": "code",
   "execution_count": 20,
   "metadata": {},
   "outputs": [],
   "source": [
    "df = pd.DataFrame(columns=['OrderNo','Invoice','ConsumerNo','Name','CompanyName','Add1','Add2','City','State','Zip','Phone','Weight','Email','SKU','InsuredValue','PC Type','FTT','FBTA','FBTPC','ML','SV'])"
   ]
  },
  {
   "cell_type": "code",
   "execution_count": 21,
   "metadata": {},
   "outputs": [],
   "source": [
    "for order in orders:\n",
    "    if order['paymentStatus'] == 'paid' and order['status'] == 'processing_awaiting_shipment' and 'Local Delivery' not in order['shipmentTitle']:\n",
    "        data = {\n",
    "                'OrderNo': order['id'],\n",
    "                'Invoice': order['number'],\n",
    "                'ConsumerNo': order['customer']['resource']['id'],\n",
    "                'Name': order['addressShippingName'],\n",
    "                'CompanyName':  order['addressShippingCompany'] if order['addressShippingCompany']!=False else '',\n",
    "                'Add1': order['addressShippingStreet'],\n",
    "                'Add2': order['addressShippingStreet2'],\n",
    "                'City': order['addressShippingCity'],\n",
    "                'State': order['addressShippingRegionData']['code'],\n",
    "                'Zip': order['addressShippingZipcode'],\n",
    "                'Phone': order['phone'],\n",
    "                'Weight': round(order['weight']*0.00220462,2),\n",
    "                'Email': order['email'],\n",
    "                'SKU':'SKU1',\n",
    "                'InsuredValue':100,\n",
    "                'PC Type':'Wine',\n",
    "                'FTT':'',\n",
    "                'FBTA':'',\n",
    "                'FBTPC':'',\n",
    "                'ML':'',\n",
    "                'SV':''\n",
    "                }\n",
    "        df = df.append(data, ignore_index=True)\n",
    " "
   ]
  },
  {
   "cell_type": "code",
   "execution_count": 22,
   "metadata": {},
   "outputs": [],
   "source": [
    "today = date.today()\n",
    "file_name = f'D:\\\\Data\\\\Vintage Team Folder\\\\24Seven Import Files\\\\VIWC_Shipping_{today.strftime(\"%Y_%m_%d\")}.xlsx'\n",
    "df.to_excel(file_name,sheet_name='Sheet1', index=False)"
   ]
  },
  {
   "cell_type": "code",
   "execution_count": null,
   "metadata": {},
   "outputs": [],
   "source": []
  }
 ],
 "metadata": {
  "language_info": {
   "name": "python",
   "codemirror_mode": {
    "name": "ipython",
    "version": 3
   },
   "version": "3.7.4-final"
  },
  "orig_nbformat": 2,
  "file_extension": ".py",
  "mimetype": "text/x-python",
  "name": "python",
  "npconvert_exporter": "python",
  "pygments_lexer": "ipython3",
  "version": 3,
  "kernelspec": {
   "name": "python3",
   "display_name": "Python 3"
  }
 },
 "nbformat": 4,
 "nbformat_minor": 2
}