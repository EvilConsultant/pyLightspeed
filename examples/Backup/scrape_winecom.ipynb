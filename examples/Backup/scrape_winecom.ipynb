{
 "cells": [
  {
   "cell_type": "code",
   "execution_count": 2,
   "metadata": {},
   "outputs": [],
   "source": [
    "import requests\n",
    "import os\n",
    "import json\n",
    "from bs4 import BeautifulSoup\n",
    "from urllib.parse import urlparse\n",
    "\n",
    "import mysql.connector\n",
    "import re"
   ]
  },
  {
   "cell_type": "code",
   "execution_count": 3,
   "metadata": {},
   "outputs": [],
   "source": [
    "from pyLightspeed.lsretail import api as lsretail\n",
    "from pyLightspeed.lsecom import api as lsecom"
   ]
  },
  {
   "cell_type": "code",
   "execution_count": 4,
   "metadata": {},
   "outputs": [],
   "source": [
    "\n",
    "#establishing the connection\n",
    "conn = mysql.connector.connect(\n",
    "   user='jamie', password='W!neL0ver', host='127.0.0.1', database='vintagewine')\n",
    "\n",
    "#Creating a cursor object using the cursor() method\n",
    "cursor = conn.cursor()"
   ]
  },
  {
   "cell_type": "code",
   "execution_count": 5,
   "metadata": {},
   "outputs": [],
   "source": [
    "KEY_FILE = \"D:\\Development\\.keys\\lightspeed_keys.json\"\n",
    "\n",
    "with open(KEY_FILE) as f:\n",
    "    keys = json.load(f)\n",
    "\n",
    "store_data = {\n",
    "            'account_id': keys[\"account_id\"],\n",
    "            'save_path': 'D:\\\\Development\\\\.keys\\\\'\n",
    "            }\n",
    "\n",
    "credentials = {\n",
    "            'client_id': keys[\"client_id\"],\n",
    "            'client_secret': keys[\"client_secret\"],\n",
    "            'api_key': keys[\"api_key\"],\n",
    "            'api_secret': keys[\"api_secret\"]\n",
    "            }"
   ]
  },
  {
   "cell_type": "code",
   "execution_count": 35,
   "metadata": {},
   "outputs": [],
   "source": [
    "lsr = lsretail.Connection(store_data, credentials)\n",
    "lse = lsecom.Connection(store_data, credentials)"
   ]
  },
  {
   "cell_type": "code",
   "execution_count": 7,
   "metadata": {},
   "outputs": [],
   "source": [
    "page_link = 'https://www.wine.com/product/ridge-pagani-ranch-zinfandel-2016/510360'\n",
    "item_id = '994'\n",
    "system_id = '210000000998'\n",
    "\n",
    "image_path = 'D:\\\\Data\\\\'\n",
    "# this is the url that we've already determined is safe and legal to scrape from.\n",
    "headers = {'User-Agent': 'Mozilla/5.0 (Windows NT 6.3; Win64; x64) AppleWebKit/537.36 (KHTML, like Gecko) Chrome/54.0.2840.71 Safari/537.36'}"
   ]
  },
  {
   "cell_type": "code",
   "execution_count": 36,
   "metadata": {
    "tags": []
   },
   "outputs": [
    {
     "output_type": "stream",
     "name": "stderr",
     "text": "ERROR:root:200: Unhandled Exception: don't know what to do:  {'Date': 'Mon, 27 Jul 2020 16:28:23 GMT', 'Content-Type': 'application/json', 'Content-Length': '456', 'Connection': 'keep-alive', 'Set-Cookie': '__cfduid=d6f548f9c939e99ff72f310ba3f6479241595867302; expires=Wed, 26-Aug-20 16:28:22 GMT; path=/; domain=.lightspeedapp.com; HttpOnly; SameSite=Lax; Secure', 'x-frame-options': 'SAMEORIGIN', 'X-XSS-Protection': '1; mode=block', 'X-Content-Type-Options': 'nosniff', 'X-LS-Acct-Id': '190211', 'X-LS-OAuth-Client-Id': '71082', 'X-LS-API-Bucket-Level': '1/60', 'X-LS-Shard-Id': '23', 'X-LS-API-Drip-Rate': '1', 'X-LS-Master-System': 'false', 'X-LS-Master-Account': 'false', 'X-LS-Master-Catalog': 'false', 'Content-Encoding': 'gzip', 'Vary': 'Accept-Encoding', 'CF-Cache-Status': 'DYNAMIC', 'cf-request-id': '0432b3a3800000b8f9140e3200000001', 'Expect-CT': 'max-age=604800, report-uri=\"https://report-uri.cloudflare.com/cdn-cgi/beacon/expect-ct\"', 'Server': 'cloudflare', 'CF-RAY': '5b97bbb26b0bb8f9-MIA'}\n"
    }
   ],
   "source": [
    "#we can look up the system ID\n",
    "\n",
    "item = lsr.get(\"Item\", rid=994)\n",
    "item[\"Item\"][\"systemSku\"]"
   ]
  },
  {
   "cell_type": "code",
   "execution_count": 38,
   "metadata": {},
   "outputs": [
    {
     "output_type": "execute_result",
     "data": {
      "text/plain": "'210000000998'"
     },
     "metadata": {},
     "execution_count": 38
    }
   ],
   "source": []
  },
  {
   "cell_type": "code",
   "execution_count": 8,
   "metadata": {},
   "outputs": [],
   "source": [
    "\n",
    "page_response = requests.get(page_link, headers=headers, timeout=5)\n",
    "# here, we fetch the content from the url, using the requests library\n",
    "page_content = BeautifulSoup(page_response.content, \"html.parser\")\n",
    "#we use the html parser to parse the url content and store it in a variable.\n",
    "textContent = []\n"
   ]
  },
  {
   "cell_type": "code",
   "execution_count": 9,
   "metadata": {},
   "outputs": [],
   "source": [
    "def process_image(url, image_path, filename, item_id, description = \"Image\", ordering = 0):\n",
    "    with open(image_path+filename, \"wb\") as f:\n",
    "        f.write(requests.get(url).content)\n",
    "    url = lsr.api_url+'Image.json'\n",
    "    \n",
    "    files = {'image': (filename, open(image_path + filename, 'rb'), 'image/jpeg')}\n",
    "    payload = {'data': '{\"description\": \"' + description + '\", \"ordering\": ' + ordering +', \"itemID\": ' + item_id +'}'}\n",
    "    r = requests.post(url, files=files, data=payload, headers=lsr.headers)\n",
    "    print(r.text)"
   ]
  },
  {
   "cell_type": "markdown",
   "metadata": {},
   "source": [
    "# Get Content\n",
    "Get's the content from the page\n"
   ]
  },
  {
   "cell_type": "code",
   "execution_count": 10,
   "metadata": {},
   "outputs": [],
   "source": [
    "description = page_content.find(class_='viewMoreModule_text')\n",
    "description_text = page_content.find(class_='viewMoreModule_text').text"
   ]
  },
  {
   "cell_type": "code",
   "execution_count": 11,
   "metadata": {},
   "outputs": [
    {
     "output_type": "execute_result",
     "data": {
      "text/plain": "[<div class=\"viewMoreModule_text\">Black cherry, pepper and chaparral on the nose. Briary red fruit, well defined, chalky tannins and refreshing acidity on the palate. Long sensuous finish. <p>Since 1991, Ridge has made zinfandel from the Pagani vineyard on the western side of Sonoma Valley. The majority of the vineyard was planted ninety to one hundred twenty years ago; portions of it were replanted between 2013—2018. The vineyard is meticulously tended by a quality-conscious family who has worked the land for four generations. An average site would have been abandoned during the thirteen years of Prohibition, or during the Depression. Its long survival is proof of its merit.</p><p>Blend: 88% Zinfandel, 9% Petite Sirah, 3% Alicante Bouschet</p></div>]"
     },
     "metadata": {},
     "execution_count": 11
    }
   ],
   "source": [
    "page_content.select('body > div.corePage.winePage > main > section.pipSecContent > section.pipSecContent_topSection > div.pipWineNotes > div > div.viewMoreModule_text')\n"
   ]
  },
  {
   "cell_type": "code",
   "execution_count": 12,
   "metadata": {},
   "outputs": [
    {
     "output_type": "execute_result",
     "data": {
      "text/plain": "[<div class=\"pipProfessionalReviews_list\"><div class=\"pipProfessionalReviews_rating\"><span class=\"wineRatings_initials\">V</span> <span class=\"wineRatings_rating\">94</span></div><div class=\"pipProfessionalReviews_authorName\">Vinous</div><div class=\"pipProfessionalReviews_review\"><div class=\"pipSecContent_copy\">The 2016 Zinfandel Pagani Ranch is bright, focused and beautifully perfumed. Bright red cherry, blood orange, pomegranate, mint and rose petal notes are all lifted in this exquisite, finessed Zinfandel. Silky, medium in body and gracious, the 2016 is absolutely sublime. The oak is just a bit pronounced at this stage, but that should not be an issue over time.</div></div></div>,\n <div class=\"pipProfessionalReviews_list\"><div class=\"pipProfessionalReviews_rating\"><span class=\"wineRatings_initials\">RP</span> <span class=\"wineRatings_rating\">93</span></div><div class=\"pipProfessionalReviews_authorName\">Robert Parker's Wine Advocate</div><div class=\"pipProfessionalReviews_review\"><div class=\"pipSecContent_copy\">The 2016 Zinfandel Pagani Ranch is excellent, offering up a lavish bouquet of ripe cherries, raspberries and sweet spices. On the palate, it's medium to full-bodied, with an ample core of succulent, mouthwatering fruit structured around fine-grained, youthfully chewy tannins. Rich and concentrated, it's balanced by mouthwatering acids. It should be well worth following for the next 10-15 years.</div></div></div>,\n <div class=\"pipProfessionalReviews_list\"><div class=\"pipProfessionalReviews_rating\"><span class=\"wineRatings_initials\">JS</span> <span class=\"wineRatings_rating\">93</span></div><div class=\"pipProfessionalReviews_authorName\">James Suckling</div><div class=\"pipProfessionalReviews_review\"><div class=\"pipSecContent_copy\">A charmingly medium-bodied red that is a blend of 88 per cent zinfandel, nine per cent petite sirah and three per cent alicante bouschet. Raspberry and blueberry aromas deliver a fresh impression on the nose that leads to a crisply appealing palate with a brightly resolved finish. Drink or hold.</div></div></div>,\n <div class=\"pipProfessionalReviews_list\"><div class=\"pipProfessionalReviews_rating\"><span class=\"wineRatings_initials\">JD</span> <span class=\"wineRatings_rating\">93</span></div><div class=\"pipProfessionalReviews_authorName\">Jeb Dunnuck</div><div class=\"pipProfessionalReviews_review\"><div class=\"pipSecContent_copy\"><p> Made by John Olney, as well as in the Sonoma facility for the first time, the 2016 Zinfandel Pagani Ranch offers lots of smoke tobacco, dried herbs, and savory black and blue fruits to go with a medium-bodied, nicely balanced style on the palate. With fine tannins and rock-solid acidity, it’s another terrific wine that’s loaded with character. Drink it over the coming 10-15 years.</p></div></div></div>,\n <div class=\"pipProfessionalReviews_list\"><div class=\"pipProfessionalReviews_rating\"><span class=\"wineRatings_initials\">WS</span> <span class=\"wineRatings_rating\">91</span></div><div class=\"pipProfessionalReviews_authorName\">Wine Spectator</div><div class=\"pipProfessionalReviews_review\"><div class=\"pipSecContent_copy\">Brooding and dense in structure, offering appealing if eccentric black plum, smoky licorice and spice box flavors that finish with lively tannins. Best after 2019.</div></div></div>]"
     },
     "metadata": {},
     "execution_count": 12
    }
   ],
   "source": [
    "reviews = page_content.select('div.pipProfessionalReviews_list')\n",
    "reviews"
   ]
  },
  {
   "cell_type": "code",
   "execution_count": 13,
   "metadata": {},
   "outputs": [
    {
     "output_type": "execute_result",
     "data": {
      "text/plain": "[<span class=\"wineRatings_initials\">RP</span>]"
     },
     "metadata": {},
     "execution_count": 13
    }
   ],
   "source": [
    "reviews[1].select('span[class=\"wineRatings_initials\"]')"
   ]
  },
  {
   "cell_type": "code",
   "execution_count": 14,
   "metadata": {},
   "outputs": [
    {
     "output_type": "execute_result",
     "data": {
      "text/plain": "'Black cherry, pepper and chaparral on the nose. Briary red fruit, well defined, chalky tannins and refreshing acidity on the palate. Long sensuous finish. Since 1991, Ridge has made zinfandel from the Pagani vineyard on the western side of Sonoma Valley. The majority of the vineyard was planted ninety to one hundred twenty years ago; portions of it were replanted between 2013—2018. The vineyard is meticulously tended by a quality-conscious family who has worked the land for four generations. An average site would have been abandoned during the thirteen years of Prohibition, or during the Depression. Its long survival is proof of its merit.Blend: 88% Zinfandel, 9% Petite Sirah, 3% Alicante Bouschet View More'"
     },
     "metadata": {},
     "execution_count": 14
    }
   ],
   "source": [
    "page_content.find(class_='pipWineNotes_copy viewMoreModule').text"
   ]
  },
  {
   "cell_type": "markdown",
   "metadata": {},
   "source": [
    "## Store Webscrape\n",
    "I keep webscrape data in a seperate table, so I want to update these. These can also be used to help train record matching models since I actually know what the main wine is, so storing that info too."
   ]
  },
  {
   "cell_type": "code",
   "execution_count": 15,
   "metadata": {
    "tags": []
   },
   "outputs": [],
   "source": [
    "\n",
    "if page_content.find(class_='icon icon-screwcap prodAttr_icon prodAttr_icon-screwcap'):\n",
    "    closure = 'Screwcap'\n",
    "else:\n",
    "    closure = ''\n",
    "\n",
    "if page_content.find(class_='icon icon-glass-red prodAttr_icon prodAttr_icon-redWine'):\n",
    "    category = 'Red'\n",
    "elif page_content.find(class_='icon icon-glass-white prodAttr_icon prodAttr_icon-whiteWine'):\n",
    "    category = 'White'\n",
    "elif page_content.find(class_='icon icon-champagne prodAttr_icon prodAttr_icon-champagne'):\n",
    "    category = 'Sparkling'\n",
    "elif page_content.find(class_='icon icon-glass-white prodAttr_icon prodAttr_icon-roseWine'):\n",
    "    category = 'Rose'\n",
    "else:\n",
    "    category = ''\n",
    "\n",
    "msrp = re.findall('[0-9.]+', page_content.find(class_='productPrice').text)[0].strip()"
   ]
  },
  {
   "cell_type": "code",
   "execution_count": 16,
   "metadata": {},
   "outputs": [],
   "source": [
    "insert_webscrape = (\"INSERT INTO webscrapes \"\n",
    "                    \"(retail_systemID, is_match, best_match, _web_scraper_order, web_scraper_start_url, scrape_sourceID, sku, product, product_href, title, name, vintage, producer, brand, price, msrp, region, subregion, description, size, alcohol, closure, category, varietal) \"\n",
    "                    \"VALUES (%(retail_systemID)s, %(is_match)s, %(best_match)s, %(_web_scraper_order)s, %(web_scraper_start_url)s, %(scrape_sourceID)s, %(sku)s, %(product)s, %(product_href)s, %(title)s, %(name)s, %(vintage)s, %(producer)s, %(brand)s, %(price)s, %(msrp)s, %(region)s, %(subregion)s, %(description)s, %(size)s, %(alcohol)s, %(closure)s, %(category)s, %(varietal)s)\")\n",
    "\n",
    "data = {\n",
    "    'retail_systemID': system_id,\n",
    "    'is_match': 1,\n",
    "    'best_match': 1,\n",
    "    '_web_scraper_order': system_id,\n",
    "    'web_scraper_start_url': page_link,\n",
    "    'scrape_sourceID': 7,\n",
    "    'sku':  page_content.find(attrs={'name':'productID'})[\"content\"],\n",
    "    'product': page_content.find(class_='pipName').text,\n",
    "    'product_href': page_link,\n",
    "    'title': page_content.find(class_='pipName').text,\n",
    "    'name':  re.findall('[A-z ]+', page_content.find(class_='pipName').text)[0].strip(),\n",
    "    'vintage': re.findall('[0-9]+', page_content.find(class_='pipName').text)[0].strip(),\n",
    "    'producer': page_content.find(class_='pipWinery_headlineLink').text,\n",
    "    'brand': page_content.find(class_='pipWinery_headlineLink').text,\n",
    "    'price': re.findall('[0-9.]+', page_content.find(class_='productPrice').text)[0].strip(),\n",
    "    'msrp': msrp,\n",
    "    'region': page_content.find(attrs={'name':'productVarietal'})[\"content\"],\n",
    "    'subregion':  page_content.find(attrs={'name':'productRegion'})[\"content\"],\n",
    "    'description':  page_content.find(class_='viewMoreModule_text').text,\n",
    "    'size': page_content.find(class_='prodAlcoholVolume_text').text,\n",
    "    'alcohol': page_content.find(class_='prodAlcoholPercent_percent').text,\n",
    "    'closure':  closure,\n",
    "    'category': category,\n",
    "    'varietal': page_content.find(attrs={'name':'productVarietal'})[\"content\"]  \n",
    "}\n",
    "\n",
    "cursor.execute(insert_webscrape, data)\n",
    "conn.commit()"
   ]
  },
  {
   "cell_type": "markdown",
   "metadata": {},
   "source": [
    "## Store Reviews and Build Description\n",
    "\n",
    "We store reviews in the Reviews table, and use them to create an HTML description to post.\n",
    "\n",
    "<p>Clos des Quatre Vents is a bright garnet color. Fresh aromas of black fruits, cherry stone, mild spices permeate the nose, while the same fruits and spices are ripe and fresh on the palate, with silky tannins.</p>\n",
    "<h3>Tasting Notes</h3>\n",
    "<p><strong>93 James Suckling<br /></strong>Dried cherries with some flowers on the nose, following through to a medium body with menthol, bark and dried tea. Subtle and complex. From 60-year-old vines.</p>\n",
    "<p>91 Vinous<br />Vivid magenta. Deeply perfumed dark berry, cherry liqueur and licorice aromas are complemented by hints of pungent flowers and allspice. Sweet and fleshy on the palate, offering concentrated blackberry, cherry pie, violet pastille and succulent herb flavors that become spicier as the wine opens up. Plays richness off of elegance with a steady hand and finishes long and sweet, with gently firming tannins and repeating florality.</p>"
   ]
  },
  {
   "cell_type": "code",
   "execution_count": 17,
   "metadata": {},
   "outputs": [],
   "source": [
    "item_content =\"\"\n",
    "item_content = '<p>' + page_content.find(class_='pipWineNotes_copy viewMoreModule').text + '</p><h3>Tasting Notes</h3>'"
   ]
  },
  {
   "cell_type": "code",
   "execution_count": 18,
   "metadata": {},
   "outputs": [],
   "source": [
    "for review in reviews:\n",
    "    # Writing the HTML is failing, I am sure because I need to escape some things, but it isn't really needed so I am skipping it.\n",
    "    insert_review = (\"INSERT INTO wine_reviews \"\n",
    "                \"(source, initials, rating, review_detail, wine_itemID, wine_systemSKU, url) \"\n",
    "                \"VALUES (%(source)s, %(initials)s, %(rating)s, %(review_detail)s, %(wine_itemID)s, %(wine_systemSKU)s, %(url)s)\")\n",
    "    data = {\n",
    "        'source': review.select('div[class=\"pipProfessionalReviews_authorName\"]')[0].text,\n",
    "        'initials': review.select('span[class=\"wineRatings_initials\"]')[0].text,\n",
    "        'rating': int(review.select('span[class=\"wineRatings_rating\"]')[0].text),\n",
    "        'review_detail': review.select('div[class=\"pipProfessionalReviews_review\"]')[0].text,\n",
    "        'wine_itemID': int(item_id),\n",
    "        'wine_systemSKU': system_id,\n",
    "        'url': page_link\n",
    "        \n",
    "    }\n",
    "    item_content = item_content + \"<p><strong>\" + review.select('span[class=\"wineRatings_rating\"]')[0].text + \" \" + review.select('div[class=\"pipProfessionalReviews_authorName\"]')[0].text + \"</strong><br />\"\n",
    "    item_content = item_content + review.select('div[class=\"pipProfessionalReviews_review\"]')[0].text + \"</p>\"\n",
    "    cursor.execute(insert_review, data)\n",
    "    conn.commit()"
   ]
  },
  {
   "cell_type": "code",
   "execution_count": 19,
   "metadata": {},
   "outputs": [],
   "source": [
    "# If it got a good score, we want to hightlight it\"\n",
    "if int(review.select('span[class=\"wineRatings_rating\"]')[0].text) > 90:\n",
    "    item_description = reviews[0].select('span[class=\"wineRatings_rating\"]')[0].text + \"pts. \" + page_content.find(class_='pipWineNotes_copy viewMoreModule').text[:100]+\"...\"\n",
    "else:\n",
    "    item_description = page_content.find(class_='pipWineNotes_copy viewMoreModule').text[:112]+\"...\""
   ]
  },
  {
   "cell_type": "markdown",
   "metadata": {},
   "source": [
    "## Write to wine_master\n",
    "We need to build out the Wine_master table, and this will be a new record for it. Eventually, we will have to keep this in sync with what is in the eCom."
   ]
  },
  {
   "cell_type": "code",
   "execution_count": null,
   "metadata": {},
   "outputs": [],
   "source": []
  },
  {
   "cell_type": "markdown",
   "metadata": {},
   "source": [
    "## Write what little we can to Lightspeed\n",
    "Lightspeed won't let you write directly to Product in eCom for things that are omni, so we have to make sure they are not active for eCom in Retail, then write using the retail api, then activate them for eCom."
   ]
  },
  {
   "cell_type": "code",
   "execution_count": 33,
   "metadata": {},
   "outputs": [],
   "source": [
    "\n",
    "data = {\"msrp\": msrp,\n",
    "        \"publishToEcom\": True,\n",
    "        \"ItemECommerce\":{\n",
    "            \"shortDescription\":item_description,\n",
    "            \"longDescription\": item_content,\n",
    "            \"weight\": 1400        \n",
    "            }\n",
    "        }\n",
    "lsr.update(\"Item\", item_id, data)\n",
    "\n"
   ]
  },
  {
   "cell_type": "code",
   "execution_count": 43,
   "metadata": {},
   "outputs": [],
   "source": [
    "data = {\"Prices\":{\n",
    "            \"ItemPrice\":{\n",
    "                \"amount\": 99.99,\n",
    "                \"useType\":\"MSRP\",\n",
    "                \"useTypeID\": 2\n",
    "                }\n",
    "}\n",
    "        }\n",
    "lsr.update(\"Item\", 865, data)"
   ]
  },
  {
   "cell_type": "markdown",
   "metadata": {},
   "source": [
    "# Do the Images\n",
    "Gets the wine images off the page, catches all the information, stores it, and puts the image in Lightspeed via API"
   ]
  },
  {
   "cell_type": "code",
   "execution_count": 21,
   "metadata": {},
   "outputs": [
    {
     "output_type": "execute_result",
     "data": {
      "text/plain": "[<img alt=\"Ridge Pagani Ranch Zinfandel 2016 Front Label\" class=\"pipThumb_image pipThumb_img-0\" src=\"/product/images/w_75,h_75,c_pad,fl_progressive/mlmzi1ovp1hwnj6zaqtn.jpg\"/>,\n <img alt=\"Ridge Pagani Ranch Zinfandel 2016  Front Bottle Shot\" class=\"pipThumb_image pipThumb_img-1\" src=\"/product/images/w_75,h_75,c_pad,fl_progressive/dtdjzop7jqszgwspquu8.jpg\"/>]"
     },
     "metadata": {},
     "execution_count": 21
    }
   ],
   "source": [
    "# images=page_content.select('body > div.corePage.winePage > main > section.pipMainContent > div.pipHero.prodImageZoom.js-thumbs-enabled > div.pipHero_wrapper > div > picture > img')\n",
    "# images = page_content.get('img')\n",
    "images = page_content.find_all(class_='pipThumb_image')\n",
    "images"
   ]
  },
  {
   "cell_type": "code",
   "execution_count": 22,
   "metadata": {
    "tags": []
   },
   "outputs": [
    {
     "output_type": "stream",
     "name": "stdout",
     "text": "{\"@attributes\":{\"count\":\"1\"},\"Image\":{\"imageID\":\"1114\",\"description\":\"Ridge Pagani Ranch Zinfandel 2016 Front Label\",\"filename\":\"210000000998_lbl.jpg\",\"ordering\":\"2\",\"publicID\":\"qsq2mkegibyt2hmfstln\",\"baseImageURL\":\"https:\\/\\/res.cloudinary.com\\/lightspeed-retail\\/image\\/upload\\/\",\"size\":\"65536\",\"createTime\":\"2020-07-27T14:31:22+00:00\",\"timeStamp\":\"2020-07-27T14:31:22+00:00\",\"itemID\":\"994\",\"itemMatrixID\":\"0\"}}\nThis is Ridge Pagani Ranch Zinfandel 2016 Front Label from /product/images/w_75,h_75,c_pad,fl_progressive/mlmzi1ovp1hwnj6zaqtn.jpg saved as 210000000998_lbl.jpg\n{\"@attributes\":{\"count\":\"1\"},\"Image\":{\"imageID\":\"1115\",\"description\":\"Ridge Pagani Ranch Zinfandel 2016  Front Bottle Shot\",\"filename\":\"210000000998_btl.jpg\",\"ordering\":\"1\",\"publicID\":\"hpskerr5wjtg8eurudt2\",\"baseImageURL\":\"https:\\/\\/res.cloudinary.com\\/lightspeed-retail\\/image\\/upload\\/\",\"size\":\"229832\",\"createTime\":\"2020-07-27T14:31:23+00:00\",\"timeStamp\":\"2020-07-27T14:31:23+00:00\",\"itemID\":\"994\",\"itemMatrixID\":\"0\"}}\nThis is Ridge Pagani Ranch Zinfandel 2016  Front Bottle Shot from /product/images/w_75,h_75,c_pad,fl_progressive/dtdjzop7jqszgwspquu8.jpg saved as 210000000998_btl.jpg\n"
    }
   ],
   "source": [
    "for image in images:\n",
    "    # urlparse will take the url from the image link...\n",
    "    a = urlparse(image.get('src'))\n",
    "    # Then we split out the filename and the extension\n",
    "    (sourcefilename, ext) = os.path.splitext(os.path.basename(a.path))\n",
    "    link = 'https://www.wine.com/product/images/'+ os.path.basename(a.path)\n",
    "    ordering = \"0\"\n",
    "\n",
    "    if \"Bottle\" in image.get('alt'):\n",
    "        filename = system_id + '_btl'+ ext\n",
    "        ordering = \"1\"\n",
    "    elif \"Label\" in image.get('alt'):\n",
    "        filename = system_id + '_lbl'+ ext\n",
    "        ordering = \"2\"    \n",
    "    else:\n",
    "        filename = system_id + sourcefilename + ext\n",
    "    process_image(link, image_path, filename, item_id, description = image.get('alt'), ordering = ordering)\n",
    "    print(f\"This is {image.get('alt')} from {a.path} saved as {filename}\")\n",
    "    "
   ]
  },
  {
   "cell_type": "code",
   "execution_count": 23,
   "metadata": {
    "tags": []
   },
   "outputs": [
    {
     "output_type": "stream",
     "name": "stdout",
     "text": "{\"@attributes\":{\"count\":\"1\"},\"Image\":{\"imageID\":\"1116\",\"description\":\"Ridge Pagani Ranch Zinfandel 2016 Front Label\",\"filename\":\"210000001629_btl.jpg\",\"ordering\":\"2\",\"publicID\":\"yianeep5hdfn0lifrfgr\",\"baseImageURL\":\"https:\\/\\/res.cloudinary.com\\/lightspeed-retail\\/image\\/upload\\/\",\"size\":\"229832\",\"createTime\":\"2020-07-27T14:31:24+00:00\",\"timeStamp\":\"2020-07-27T14:31:24+00:00\",\"itemID\":\"994\",\"itemMatrixID\":\"0\"}}\n"
    }
   ],
   "source": [
    "\n",
    "url = 'https://api.lightspeedapp.com/API/Account/190211/Image.json'\n",
    "files = {'image': ('210000001629_btl.jpg', open(image_path+'210000001629_btl.jpg', 'rb'), 'image/jpeg')}\n",
    "payload = {'data': '{\"description\": \"Ridge Pagani Ranch Zinfandel 2016 Front Label\", \"ordering\": 2, \"itemID\": ' + item_id +'}'}\n",
    "\n",
    "r = requests.post(url, files=files, data=payload, headers=lsr.headers)\n",
    "\n",
    "print(r.text)"
   ]
  },
  {
   "cell_type": "code",
   "execution_count": null,
   "metadata": {},
   "outputs": [],
   "source": []
  },
  {
   "cell_type": "code",
   "execution_count": 24,
   "metadata": {
    "tags": []
   },
   "outputs": [
    {
     "output_type": "stream",
     "name": "stdout",
     "text": "<!DOCTYPE doctype html>\n<html class=\"loading\" data-view1=\"true\" data-view1_10=\"true\" data-view1_9=\"true\" lang=\"en\" xml:lang=\"en\">\n <head>\n  <meta content=\"Wine\" name=\"salesChannel\"/>\n  <meta content=\"Zinfandel\" name=\"productVarietal\"/>\n  <meta content=\"Sonoma Valley\" name=\"productRegion\"/>\n  <meta content=\"$48.99\" name=\"productPrice\"/>\n  <meta content=\"Sonoma Valley, Sonoma County, California\" name=\"productOrigin\"/>\n  <meta content=\"510360\" name=\"productID\"/>\n  <meta content=\"In Stock\" name=\"ProductAvailability\"/>\n  <meta content=\"SOU913205_2016\" name=\"pProductID\"/>\n  <meta content=\"Product Detail\" name=\"pageType\"/>\n  <meta content=\"Ridge Pagani Ranch Zinfandel 2016 from Sonoma Valley, Sonoma County, California - Black cherry, pepper and chaparral on the nose. Briary red fruit, well defined, chalky tannins and refreshing acidity on the palate. Long sensuous finish. Since...\" name=\"description\"/>\n  <meta content=\"Never\" name=\"picked_membership\"/>\n  <meta content=\"true\" name=\"CartLoaded\"/>\n  <meta content=\"\" name=\"PromoCode\"/>\n  <meta content=\"$0.00\" name=\"cart_estimatedTotal\"/>\n  <meta content=\"$0.00\" name=\"cart_estimatedTax\"/>\n  <meta content=\"$0.00\" name=\"cart_estimatedFreight\"/>\n  <meta content=\"0\" name=\"cart_productCount\"/>\n  <meta content=\"$0.00\" name=\"cart_productTotal\"/>\n  <meta content=\"\" name=\"cart_productUnitPrice\"/>\n  <meta content=\"\" name=\"cart_productQuantity\"/>\n  <meta content=\"\" name=\"cart_productName\"/>\n  <meta content=\"\" name=\"cart_productId\"/>\n  <meta content=\"\" name=\"cart_productTemplateId\"/>\n  <meta content=\"\" name=\"cart_guid\"/>\n  <meta content=\"notranslate\" name=\"google\"/>\n  <meta content=\"10\" name=\"server\"/>\n  <meta content=\"width=device-width, initial-scale=1.0, maximum-scale=1.0, minimum-scale=1.0, user-scalable=no\" name=\"viewport\"/>\n  <meta content=\"#ffffff\" name=\"theme-color\"/>\n  <meta content=\"mstile-144x144.png\" name=\"msapplication-TileImage\"/>\n  <meta content=\"#ffc40d\" name=\"msapplication-TileColor\"/>\n  <meta name=\"msvalidate.01\"/>\n  <met\n"
    }
   ],
   "source": [
    "# This prints out the document in a formatted tree style and limits the number of characters returned\n",
    "print(page_content.prettify()[0:2000])"
   ]
  },
  {
   "cell_type": "code",
   "execution_count": 25,
   "metadata": {},
   "outputs": [
    {
     "output_type": "execute_result",
     "data": {
      "text/plain": "[]"
     },
     "metadata": {},
     "execution_count": 25
    }
   ],
   "source": [
    "page_content.select('body > div.lightBox > div.lightBoxContentWrap > span.lightBoxContent > img.lightBoxContent_image.lightBoxContent_image-active')"
   ]
  },
  {
   "cell_type": "code",
   "execution_count": 26,
   "metadata": {},
   "outputs": [
    {
     "output_type": "execute_result",
     "data": {
      "text/plain": "'pipThumb_image'"
     },
     "metadata": {},
     "execution_count": 26
    }
   ],
   "source": [
    "images[1].get('class')[0]\n"
   ]
  },
  {
   "cell_type": "code",
   "execution_count": 27,
   "metadata": {
    "tags": []
   },
   "outputs": [
    {
     "output_type": "stream",
     "name": "stdout",
     "text": "/product/images/w_75,h_75,c_pad,fl_progressive/mlmzi1ovp1hwnj6zaqtn.jpg\nmlmzi1ovp1hwnj6zaqtn.jpg\n"
    }
   ],
   "source": [
    "a = urlparse(images[0].get('src'))\n",
    "print(a.path)                    # Output: /kyle/09-09-201315-47-571378756077.jpg\n",
    "print(os.path.basename(a.path))  # Output: 09-09-201315-47-571378756077.jpg"
   ]
  },
  {
   "cell_type": "code",
   "execution_count": 28,
   "metadata": {},
   "outputs": [
    {
     "output_type": "execute_result",
     "data": {
      "text/plain": "{'alt': 'Ridge Pagani Ranch Zinfandel 2016 Front Label',\n 'class': ['pipThumb_image', 'pipThumb_img-0'],\n 'src': '/product/images/w_75,h_75,c_pad,fl_progressive/mlmzi1ovp1hwnj6zaqtn.jpg'}"
     },
     "metadata": {},
     "execution_count": 28
    }
   ],
   "source": [
    "link = images[0].attrs\n",
    "link"
   ]
  },
  {
   "cell_type": "markdown",
   "metadata": {},
   "source": [
    "# Put the images in Lightspeed Retail"
   ]
  },
  {
   "cell_type": "code",
   "execution_count": null,
   "metadata": {},
   "outputs": [],
   "source": []
  },
  {
   "cell_type": "markdown",
   "metadata": {},
   "source": [
    "# Descriptions\n",
    "This is some of the Descriptions"
   ]
  },
  {
   "cell_type": "code",
   "execution_count": 29,
   "metadata": {},
   "outputs": [
    {
     "output_type": "execute_result",
     "data": {
      "text/plain": "[<div class=\"pipWineNotes\" data-view1_35=\"true\">\n <h2 class=\"pipSecContent_headline\">Winemaker Notes</h2>\n <div class=\"pipWineNotes_copy viewMoreModule\" itemprop=\"description\"><div class=\"viewMoreModule_text\">Black cherry, pepper and chaparral on the nose. Briary red fruit, well defined, chalky tannins and refreshing acidity on the palate. Long sensuous finish. <p>Since 1991, Ridge has made zinfandel from the Pagani vineyard on the western side of Sonoma Valley. The majority of the vineyard was planted ninety to one hundred twenty years ago; portions of it were replanted between 2013—2018. The vineyard is meticulously tended by a quality-conscious family who has worked the land for four generations. An average site would have been abandoned during the thirteen years of Prohibition, or during the Depression. Its long survival is proof of its merit.</p><p>Blend: 88% Zinfandel, 9% Petite Sirah, 3% Alicante Bouschet</p></div><div class=\"viewMoreModule_link\"> <a class=\"viewMoreWine\" href=\"#\">View More</a></div></div>\n </div>]"
     },
     "metadata": {},
     "execution_count": 29
    }
   ],
   "source": [
    "page_content.select('body > div.corePage.winePage > main > section.pipSecContent > section.pipSecContent_topSection > div.pipWineNotes')"
   ]
  },
  {
   "cell_type": "code",
   "execution_count": 30,
   "metadata": {},
   "outputs": [
    {
     "output_type": "execute_result",
     "data": {
      "text/plain": "[]"
     },
     "metadata": {},
     "execution_count": 30
    }
   ],
   "source": [
    "page_content.select(\"img[src^=http]\")"
   ]
  },
  {
   "cell_type": "code",
   "execution_count": 31,
   "metadata": {},
   "outputs": [],
   "source": [
    "for image in images:\n",
    "        lnk = link[\"src\"]\n",
    "\n"
   ]
  }
 ],
 "metadata": {
  "language_info": {
   "codemirror_mode": {
    "name": "ipython",
    "version": 3
   },
   "file_extension": ".py",
   "mimetype": "text/x-python",
   "name": "python",
   "nbconvert_exporter": "python",
   "pygments_lexer": "ipython3",
   "version": "3.7.4-final"
  },
  "orig_nbformat": 2,
  "kernelspec": {
   "name": "python3",
   "display_name": "Python 3"
  }
 },
 "nbformat": 4,
 "nbformat_minor": 2
}