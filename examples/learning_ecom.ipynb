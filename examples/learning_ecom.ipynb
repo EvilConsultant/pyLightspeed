{
 "nbformat": 4,
 "nbformat_minor": 2,
 "metadata": {
  "language_info": {
   "name": "python",
   "codemirror_mode": {
    "name": "ipython",
    "version": 3
   },
   "version": "3.7.4-final"
  },
  "orig_nbformat": 2,
  "file_extension": ".py",
  "mimetype": "text/x-python",
  "name": "python",
  "npconvert_exporter": "python",
  "pygments_lexer": "ipython3",
  "version": 3,
  "kernelspec": {
   "name": "python3",
   "display_name": "Python 3"
  }
 },
 "cells": [
  {
   "cell_type": "markdown",
   "metadata": {},
   "source": [
    "# Learning eCom\n",
    "\n",
    "Trying to figure out how the eCom API works"
   ],
   "execution_count": null,
   "outputs": []
  },
  {
   "cell_type": "code",
   "execution_count": 1,
   "metadata": {},
   "outputs": [
    {
     "output_type": "stream",
     "name": "stderr",
     "text": "2020-04-13 17:00:48,690 - DEBUG - Start of program\n"
    }
   ],
   "source": [
    "import logging\n",
    "import requests\n",
    "import json\n",
    "import pandas as pd\n",
    "\n",
    "# Start logging\n",
    "logging.basicConfig(level=logging.DEBUG, format='%(asctime)s - %(levelname)s - %(message)s')\n",
    "logging.debug('Start of program')\n",
    ""
   ]
  },
  {
   "cell_type": "code",
   "execution_count": 22,
   "metadata": {},
   "outputs": [
    {
     "output_type": "stream",
     "name": "stderr",
     "text": "2020-04-13 17:29:16,819 - DEBUG - Starting new HTTPS connection (1): api.lightspeedapp.com:443\n2020-04-13 17:29:17,208 - DEBUG - https://api.lightspeedapp.com:443 \"GET /API/Account/190211/Item.json?&customSku=!~,%2% HTTP/1.1\" 200 1853\n"
    },
    {
     "output_type": "execute_result",
     "data": {
      "text/plain": "{'@attributes': {'count': '18', 'offset': '0', 'limit': '100'},\n 'Item': [{'itemID': '1140',\n   'systemSku': '210000001145',\n   'defaultCost': '13.25',\n   'avgCost': '13.25',\n   'discountable': 'true',\n   'tax': 'true',\n   'archived': 'false',\n   'itemType': 'default',\n   'serialized': 'false',\n   'description': 'Amelia Cremant de Bordeaux Brut Rose',\n   'modelYear': '0',\n   'upc': '085000027233',\n   'ean': '',\n   'customSku': '',\n   'manufacturerSku': '',\n   'createTime': '2019-05-17T21:47:41+00:00',\n   'timeStamp': '2020-04-10T18:23:42+00:00',\n   'publishToEcom': 'false',\n   'categoryID': '6',\n   'taxClassID': '1',\n   'departmentID': '0',\n   'itemMatrixID': '0',\n   'manufacturerID': '712',\n   'seasonID': '0',\n   'defaultVendorID': '3',\n   'Prices': {'ItemPrice': [{'amount': '19.99',\n      'useTypeID': '1',\n      'useType': 'Default'},\n     {'amount': '0', 'useTypeID': '2', 'useType': 'MSRP'},\n     {'amount': '0', 'useTypeID': '3', 'useType': 'Online'},\n     {'amount': '0', 'useTypeID': '4', 'useType': 'Promotion'}]}},\n  {'itemID': '1769',\n   'systemSku': '210000001806',\n   'defaultCost': '3',\n   'avgCost': '3',\n   'discountable': 'true',\n   'tax': 'true',\n   'archived': 'false',\n   'itemType': 'default',\n   'serialized': 'false',\n   'description': 'Castillo San Simon Tempranillo (N.V.)',\n   'modelYear': '0',\n   'upc': '017619034012',\n   'ean': '',\n   'customSku': '',\n   'manufacturerSku': '',\n   'createTime': '2020-04-08T16:53:52+00:00',\n   'timeStamp': '2020-04-09T21:34:37+00:00',\n   'publishToEcom': 'false',\n   'categoryID': '2',\n   'taxClassID': '1',\n   'departmentID': '0',\n   'itemMatrixID': '0',\n   'manufacturerID': '0',\n   'seasonID': '0',\n   'defaultVendorID': '41',\n   'Prices': {'ItemPrice': [{'amount': '10.99',\n      'useTypeID': '1',\n      'useType': 'Default'},\n     {'amount': '10.99', 'useTypeID': '2', 'useType': 'MSRP'},\n     {'amount': '10.99', 'useTypeID': '3', 'useType': 'Online'},\n     {'amount': '10.99', 'useTypeID': '4', 'useType': 'Promotion'}]}},\n  {'itemID': '1771',\n   'systemSku': '210000001808',\n   'defaultCost': '18.75',\n   'avgCost': '18.75',\n   'discountable': 'true',\n   'tax': 'true',\n   'archived': 'false',\n   'itemType': 'default',\n   'serialized': 'false',\n   'description': 'Fonseca Late Bottled Vintage 2014',\n   'modelYear': '0',\n   'upc': '084692310746',\n   'ean': '',\n   'customSku': '',\n   'manufacturerSku': '',\n   'createTime': '2020-04-08T17:05:37+00:00',\n   'timeStamp': '2020-04-08T17:08:52+00:00',\n   'publishToEcom': 'false',\n   'categoryID': '184',\n   'taxClassID': '1',\n   'departmentID': '0',\n   'itemMatrixID': '0',\n   'manufacturerID': '440',\n   'seasonID': '0',\n   'defaultVendorID': '41',\n   'Prices': {'ItemPrice': [{'amount': '29.99',\n      'useTypeID': '1',\n      'useType': 'Default'},\n     {'amount': '0', 'useTypeID': '2', 'useType': 'MSRP'},\n     {'amount': '0', 'useTypeID': '3', 'useType': 'Online'},\n     {'amount': '0', 'useTypeID': '4', 'useType': 'Promotion'}]}},\n  {'itemID': '1772',\n   'systemSku': '210000001809',\n   'defaultCost': '9.33',\n   'avgCost': '9.33',\n   'discountable': 'true',\n   'tax': 'true',\n   'archived': 'false',\n   'itemType': 'default',\n   'serialized': 'false',\n   'description': \"Cleto Chiarli Lambrusco Grasparossa di Castelvetro 'Centenario' Amabile (N.V.)\",\n   'modelYear': '0',\n   'upc': '748789805057',\n   'ean': '',\n   'customSku': '',\n   'manufacturerSku': '',\n   'createTime': '2020-04-08T22:00:12+00:00',\n   'timeStamp': '2020-04-11T21:32:42+00:00',\n   'publishToEcom': 'false',\n   'categoryID': '5',\n   'taxClassID': '1',\n   'departmentID': '0',\n   'itemMatrixID': '0',\n   'manufacturerID': '0',\n   'seasonID': '0',\n   'defaultVendorID': '119',\n   'Prices': {'ItemPrice': [{'amount': '14.99',\n      'useTypeID': '1',\n      'useType': 'Default'},\n     {'amount': '0', 'useTypeID': '2', 'useType': 'MSRP'},\n     {'amount': '0', 'useTypeID': '3', 'useType': 'Online'},\n     {'amount': '0', 'useTypeID': '4', 'useType': 'Promotion'}]}},\n  {'itemID': '1774',\n   'systemSku': '210000001811',\n   'defaultCost': '63.33',\n   'avgCost': '63.33',\n   'discountable': 'true',\n   'tax': 'true',\n   'archived': 'false',\n   'itemType': 'default',\n   'serialized': 'false',\n   'description': 'Pahlmeyer Merlot (2016)',\n   'modelYear': '0',\n   'upc': '',\n   'ean': '',\n   'customSku': '',\n   'manufacturerSku': '',\n   'createTime': '2020-04-09T16:28:07+00:00',\n   'timeStamp': '2020-04-13T15:26:32+00:00',\n   'publishToEcom': 'true',\n   'categoryID': '100',\n   'taxClassID': '1',\n   'departmentID': '0',\n   'itemMatrixID': '0',\n   'manufacturerID': '796',\n   'seasonID': '0',\n   'defaultVendorID': '3',\n   'Prices': {'ItemPrice': [{'amount': '94.99',\n      'useTypeID': '1',\n      'useType': 'Default'},\n     {'amount': '105.99', 'useTypeID': '2', 'useType': 'MSRP'},\n     {'amount': '0', 'useTypeID': '3', 'useType': 'Online'},\n     {'amount': '0', 'useTypeID': '4', 'useType': 'Promotion'}]}},\n  {'itemID': '1775',\n   'systemSku': '210000001812',\n   'defaultCost': '12',\n   'avgCost': '12',\n   'discountable': 'true',\n   'tax': 'true',\n   'archived': 'false',\n   'itemType': 'default',\n   'serialized': 'false',\n   'description': 'Whitehaven Sauvignon Blanc (2019)',\n   'modelYear': '0',\n   'upc': '085000012017',\n   'ean': '',\n   'customSku': '',\n   'manufacturerSku': '',\n   'createTime': '2020-04-09T16:39:12+00:00',\n   'timeStamp': '2020-04-09T16:52:47+00:00',\n   'publishToEcom': 'false',\n   'categoryID': '174',\n   'taxClassID': '1',\n   'departmentID': '0',\n   'itemMatrixID': '0',\n   'manufacturerID': '438',\n   'seasonID': '0',\n   'defaultVendorID': '3',\n   'Prices': {'ItemPrice': [{'amount': '16.99',\n      'useTypeID': '1',\n      'useType': 'Default'},\n     {'amount': '0', 'useTypeID': '2', 'useType': 'MSRP'},\n     {'amount': '0', 'useTypeID': '3', 'useType': 'Online'},\n     {'amount': '0', 'useTypeID': '4', 'useType': 'Promotion'}]}},\n  {'itemID': '1776',\n   'systemSku': '210000001813',\n   'defaultCost': '13.5',\n   'avgCost': '13.5',\n   'discountable': 'true',\n   'tax': 'true',\n   'archived': 'false',\n   'itemType': 'default',\n   'serialized': 'false',\n   'description': \"Travaglini Nebbiolo 'Coste della Sesia' (2018)\",\n   'modelYear': '0',\n   'upc': '086785158082',\n   'ean': '',\n   'customSku': '',\n   'manufacturerSku': '',\n   'createTime': '2020-04-09T19:26:38+00:00',\n   'timeStamp': '2020-04-09T19:31:05+00:00',\n   'publishToEcom': 'false',\n   'categoryID': '155',\n   'taxClassID': '1',\n   'departmentID': '0',\n   'itemMatrixID': '0',\n   'manufacturerID': '0',\n   'seasonID': '0',\n   'defaultVendorID': '47',\n   'Prices': {'ItemPrice': [{'amount': '22.99',\n      'useTypeID': '1',\n      'useType': 'Default'},\n     {'amount': '0', 'useTypeID': '2', 'useType': 'MSRP'},\n     {'amount': '0', 'useTypeID': '3', 'useType': 'Online'},\n     {'amount': '0', 'useTypeID': '4', 'useType': 'Promotion'}]}},\n  {'itemID': '1777',\n   'systemSku': '210000001814',\n   'defaultCost': '3.5',\n   'avgCost': '3.5',\n   'discountable': 'true',\n   'tax': 'true',\n   'archived': 'false',\n   'itemType': 'default',\n   'serialized': 'false',\n   'description': 'Concannon Selected Vineyards Pinot Noir (2016)',\n   'modelYear': '0',\n   'upc': '081908630070',\n   'ean': '',\n   'customSku': '',\n   'manufacturerSku': '',\n   'createTime': '2020-04-09T20:15:12+00:00',\n   'timeStamp': '2020-04-13T16:23:39+00:00',\n   'publishToEcom': 'true',\n   'categoryID': '2',\n   'taxClassID': '1',\n   'departmentID': '0',\n   'itemMatrixID': '0',\n   'manufacturerID': '0',\n   'seasonID': '0',\n   'defaultVendorID': '41',\n   'Prices': {'ItemPrice': [{'amount': '10.99',\n      'useTypeID': '1',\n      'useType': 'Default'},\n     {'amount': '14.99', 'useTypeID': '2', 'useType': 'MSRP'},\n     {'amount': '0', 'useTypeID': '3', 'useType': 'Online'},\n     {'amount': '0', 'useTypeID': '4', 'useType': 'Promotion'}]}},\n  {'itemID': '1778',\n   'systemSku': '210000001815',\n   'defaultCost': '3',\n   'avgCost': '3',\n   'discountable': 'true',\n   'tax': 'true',\n   'archived': 'false',\n   'itemType': 'default',\n   'serialized': 'false',\n   'description': 'Vinos de Arganza Mencia Encanto (2011)',\n   'modelYear': '0',\n   'upc': '8437004678874',\n   'ean': '',\n   'customSku': '',\n   'manufacturerSku': '',\n   'createTime': '2020-04-09T20:21:57+00:00',\n   'timeStamp': '2020-04-13T16:27:51+00:00',\n   'publishToEcom': 'true',\n   'categoryID': '2',\n   'taxClassID': '1',\n   'departmentID': '0',\n   'itemMatrixID': '0',\n   'manufacturerID': '0',\n   'seasonID': '0',\n   'defaultVendorID': '41',\n   'Prices': {'ItemPrice': [{'amount': '10.99',\n      'useTypeID': '1',\n      'useType': 'Default'},\n     {'amount': '14.99', 'useTypeID': '2', 'useType': 'MSRP'},\n     {'amount': '0', 'useTypeID': '3', 'useType': 'Online'},\n     {'amount': '0', 'useTypeID': '4', 'useType': 'Promotion'}]}},\n  {'itemID': '1779',\n   'systemSku': '210000001816',\n   'defaultCost': '6',\n   'avgCost': '6',\n   'discountable': 'true',\n   'tax': 'true',\n   'archived': 'false',\n   'itemType': 'default',\n   'serialized': 'false',\n   'description': 'Mercer Family Vineyards Chardonnay (2016)',\n   'modelYear': '0',\n   'upc': '898012002712',\n   'ean': '',\n   'customSku': '',\n   'manufacturerSku': '',\n   'createTime': '2020-04-09T20:26:28+00:00',\n   'timeStamp': '2020-04-11T20:34:54+00:00',\n   'publishToEcom': 'false',\n   'categoryID': '2',\n   'taxClassID': '1',\n   'departmentID': '0',\n   'itemMatrixID': '0',\n   'manufacturerID': '0',\n   'seasonID': '0',\n   'defaultVendorID': '41',\n   'Prices': {'ItemPrice': [{'amount': '12.99',\n      'useTypeID': '1',\n      'useType': 'Default'},\n     {'amount': '12.99', 'useTypeID': '2', 'useType': 'MSRP'},\n     {'amount': '12.99', 'useTypeID': '3', 'useType': 'Online'},\n     {'amount': '12.99', 'useTypeID': '4', 'useType': 'Promotion'}]}},\n  {'itemID': '1780',\n   'systemSku': '210000001817',\n   'defaultCost': '3',\n   'avgCost': '3',\n   'discountable': 'true',\n   'tax': 'true',\n   'archived': 'false',\n   'itemType': 'default',\n   'serialized': 'false',\n   'description': 'Nederburg Wines Sauvignon Blanc The Winemasters Reserve (2016)',\n   'modelYear': '0',\n   'upc': '012086927713',\n   'ean': '',\n   'customSku': '',\n   'manufacturerSku': '',\n   'createTime': '2020-04-09T20:30:26+00:00',\n   'timeStamp': '2020-04-13T16:07:51+00:00',\n   'publishToEcom': 'true',\n   'categoryID': '2',\n   'taxClassID': '1',\n   'departmentID': '0',\n   'itemMatrixID': '0',\n   'manufacturerID': '0',\n   'seasonID': '0',\n   'defaultVendorID': '41',\n   'Prices': {'ItemPrice': [{'amount': '10.99',\n      'useTypeID': '1',\n      'useType': 'Default'},\n     {'amount': '10.99', 'useTypeID': '2', 'useType': 'MSRP'},\n     {'amount': '10.99', 'useTypeID': '3', 'useType': 'Online'},\n     {'amount': '10.99', 'useTypeID': '4', 'useType': 'Promotion'}]}},\n  {'itemID': '1781',\n   'systemSku': '210000001818',\n   'defaultCost': '20.67',\n   'avgCost': '20.67',\n   'discountable': 'true',\n   'tax': 'true',\n   'archived': 'false',\n   'itemType': 'default',\n   'serialized': 'false',\n   'description': 'Chappellet Mountain Cuvee (2018)',\n   'modelYear': '0',\n   'upc': '081587119958',\n   'ean': '',\n   'customSku': '',\n   'manufacturerSku': '',\n   'createTime': '2020-04-09T22:31:29+00:00',\n   'timeStamp': '2020-04-13T15:06:43+00:00',\n   'publishToEcom': 'true',\n   'categoryID': '100',\n   'taxClassID': '1',\n   'departmentID': '0',\n   'itemMatrixID': '0',\n   'manufacturerID': '798',\n   'seasonID': '0',\n   'defaultVendorID': '119',\n   'Prices': {'ItemPrice': [{'amount': '29.99',\n      'useTypeID': '1',\n      'useType': 'Default'},\n     {'amount': '39.99', 'useTypeID': '2', 'useType': 'MSRP'},\n     {'amount': '0', 'useTypeID': '3', 'useType': 'Online'},\n     {'amount': '0', 'useTypeID': '4', 'useType': 'Promotion'}]}},\n  {'itemID': '1782',\n   'systemSku': '210000001819',\n   'defaultCost': '141.45',\n   'avgCost': '141.45',\n   'discountable': 'true',\n   'tax': 'true',\n   'archived': 'false',\n   'itemType': 'default',\n   'serialized': 'false',\n   'description': 'Pahlmeyer Proprietary Red (2016)',\n   'modelYear': '0',\n   'upc': '',\n   'ean': '',\n   'customSku': '',\n   'manufacturerSku': '',\n   'createTime': '2020-04-11T15:11:59+00:00',\n   'timeStamp': '2020-04-13T15:20:12+00:00',\n   'publishToEcom': 'true',\n   'categoryID': '100',\n   'taxClassID': '1',\n   'departmentID': '0',\n   'itemMatrixID': '0',\n   'manufacturerID': '796',\n   'seasonID': '0',\n   'defaultVendorID': '3',\n   'Prices': {'ItemPrice': [{'amount': '199.99',\n      'useTypeID': '1',\n      'useType': 'Default'},\n     {'amount': '229.99', 'useTypeID': '2', 'useType': 'MSRP'},\n     {'amount': '0', 'useTypeID': '3', 'useType': 'Online'},\n     {'amount': '0', 'useTypeID': '4', 'useType': 'Promotion'}]}},\n  {'itemID': '1783',\n   'systemSku': '210000001820',\n   'defaultCost': '0',\n   'avgCost': '0',\n   'discountable': 'false',\n   'tax': 'false',\n   'archived': 'false',\n   'itemType': 'non_inventory',\n   'serialized': 'false',\n   'description': 'Happy Birthday! $10.00 off (Loyalty)',\n   'modelYear': '0',\n   'upc': '',\n   'ean': '',\n   'customSku': '',\n   'manufacturerSku': '',\n   'createTime': '2020-04-11T17:21:09+00:00',\n   'timeStamp': '2020-04-11T17:21:09+00:00',\n   'publishToEcom': 'false',\n   'categoryID': '0',\n   'taxClassID': '1',\n   'departmentID': '0',\n   'itemMatrixID': '0',\n   'manufacturerID': '0',\n   'seasonID': '0',\n   'defaultVendorID': '0',\n   'Prices': {'ItemPrice': [{'amount': '0',\n      'useTypeID': '1',\n      'useType': 'Default'},\n     {'amount': '0', 'useTypeID': '2', 'useType': 'MSRP'},\n     {'amount': '0', 'useTypeID': '3', 'useType': 'Online'},\n     {'amount': '0', 'useTypeID': '4', 'useType': 'Promotion'}]}},\n  {'itemID': '1784',\n   'systemSku': '210000001821',\n   'defaultCost': '3',\n   'avgCost': '3',\n   'discountable': 'true',\n   'tax': 'true',\n   'archived': 'false',\n   'itemType': 'default',\n   'serialized': 'false',\n   'description': 'La Emperatriz Rioja Crianza Finca La Emperatriz (2011)',\n   'modelYear': '0',\n   'upc': '8436020260865',\n   'ean': '',\n   'customSku': '',\n   'manufacturerSku': '',\n   'createTime': '2020-04-13T16:36:03+00:00',\n   'timeStamp': '2020-04-13T19:45:07+00:00',\n   'publishToEcom': 'false',\n   'categoryID': '2',\n   'taxClassID': '1',\n   'departmentID': '0',\n   'itemMatrixID': '0',\n   'manufacturerID': '0',\n   'seasonID': '0',\n   'defaultVendorID': '47',\n   'Prices': {'ItemPrice': [{'amount': '12.99',\n      'useTypeID': '1',\n      'useType': 'Default'},\n     {'amount': '12.99', 'useTypeID': '2', 'useType': 'MSRP'},\n     {'amount': '12.99', 'useTypeID': '3', 'useType': 'Online'},\n     {'amount': '12.99', 'useTypeID': '4', 'useType': 'Promotion'}]}},\n  {'itemID': '1785',\n   'systemSku': '210000001822',\n   'defaultCost': '6',\n   'avgCost': '6',\n   'discountable': 'true',\n   'tax': 'true',\n   'archived': 'false',\n   'itemType': 'default',\n   'serialized': 'false',\n   'description': 'Barons de Rothschild (Lafite) Cabernet Sauvignon Los Vascos (2018)',\n   'modelYear': '0',\n   'upc': '722358411108',\n   'ean': '',\n   'customSku': '',\n   'manufacturerSku': '',\n   'createTime': '2020-04-13T16:49:13+00:00',\n   'timeStamp': '2020-04-13T19:45:07+00:00',\n   'publishToEcom': 'true',\n   'categoryID': '2',\n   'taxClassID': '1',\n   'departmentID': '0',\n   'itemMatrixID': '0',\n   'manufacturerID': '0',\n   'seasonID': '0',\n   'defaultVendorID': '47',\n   'Prices': {'ItemPrice': [{'amount': '11.99',\n      'useTypeID': '1',\n      'useType': 'Default'},\n     {'amount': '11.99', 'useTypeID': '2', 'useType': 'MSRP'},\n     {'amount': '11.99', 'useTypeID': '3', 'useType': 'Online'},\n     {'amount': '11.99', 'useTypeID': '4', 'useType': 'Promotion'}]}},\n  {'itemID': '1786',\n   'systemSku': '210000001823',\n   'defaultCost': '3',\n   'avgCost': '3',\n   'discountable': 'true',\n   'tax': 'true',\n   'archived': 'false',\n   'itemType': 'default',\n   'serialized': 'false',\n   'description': \"Marcarini Dolcetto d'Alba Fontanazza (2015)\",\n   'modelYear': '0',\n   'upc': '726452006321',\n   'ean': '',\n   'customSku': '',\n   'manufacturerSku': '',\n   'createTime': '2020-04-13T16:56:24+00:00',\n   'timeStamp': '2020-04-13T19:45:07+00:00',\n   'publishToEcom': 'true',\n   'categoryID': '2',\n   'taxClassID': '1',\n   'departmentID': '0',\n   'itemMatrixID': '0',\n   'manufacturerID': '0',\n   'seasonID': '0',\n   'defaultVendorID': '47',\n   'Prices': {'ItemPrice': [{'amount': '13.99',\n      'useTypeID': '1',\n      'useType': 'Default'},\n     {'amount': '13.99', 'useTypeID': '2', 'useType': 'MSRP'},\n     {'amount': '13.99', 'useTypeID': '3', 'useType': 'Online'},\n     {'amount': '13.99', 'useTypeID': '4', 'useType': 'Promotion'}]}},\n  {'itemID': '1787',\n   'systemSku': '210000001824',\n   'defaultCost': '5',\n   'avgCost': '5',\n   'discountable': 'true',\n   'tax': 'true',\n   'archived': 'false',\n   'itemType': 'default',\n   'serialized': 'false',\n   'description': 'Vigneti del Vulture Aglianico del Vulture Pipoli (2018)',\n   'modelYear': '0',\n   'upc': '8019873924315',\n   'ean': '',\n   'customSku': '',\n   'manufacturerSku': '',\n   'createTime': '2020-04-13T17:22:58+00:00',\n   'timeStamp': '2020-04-13T19:45:07+00:00',\n   'publishToEcom': 'false',\n   'categoryID': '2',\n   'taxClassID': '1',\n   'departmentID': '0',\n   'itemMatrixID': '0',\n   'manufacturerID': '0',\n   'seasonID': '0',\n   'defaultVendorID': '47',\n   'Prices': {'ItemPrice': [{'amount': '12.49',\n      'useTypeID': '1',\n      'useType': 'Default'},\n     {'amount': '0', 'useTypeID': '2', 'useType': 'MSRP'},\n     {'amount': '0', 'useTypeID': '3', 'useType': 'Online'},\n     {'amount': '0', 'useTypeID': '4', 'useType': 'Promotion'}]}}]}"
     },
     "metadata": {},
     "execution_count": 22
    }
   ],
   "source": [
    "#filter = load_relations=[\"Contact\"]&Contact.email=%2C\n",
    "\n",
    "\n",
    "url = f'https://api.lightspeedapp.com/API/Account/{lsr.account_id}/Item.json?&customSku=!~,%2%'\n",
    "\n",
    "\n",
    "response = requests.request('GET', url, headers=lsr.headers)\n",
    "\n",
    "response.json()"
   ]
  },
  {
   "cell_type": "code",
   "execution_count": 17,
   "metadata": {},
   "outputs": [
    {
     "output_type": "execute_result",
     "data": {
      "text/plain": "'3336'"
     },
     "metadata": {},
     "execution_count": 17
    }
   ],
   "source": [
    "response.json()['@attributes']['count']\n",
    ""
   ]
  },
  {
   "cell_type": "code",
   "execution_count": null,
   "metadata": {},
   "outputs": [],
   "source": [
    "url = f'https://api.lightspeedapp.com/API/Account/{lsr.account_id}/en/resources.json'\n",
    "response = requests.request('GET', url, headers=lsr.headers)"
   ]
  },
  {
   "cell_type": "code",
   "execution_count": null,
   "metadata": {},
   "outputs": [],
   "source": [
    "response.json()\n",
    ""
   ]
  },
  {
   "cell_type": "markdown",
   "metadata": {},
   "source": [
    "https://api.lightspeedhq.com/API/Account/{{accountID}}/Sale.json?customerID=>,0&completed=true\n"
   ]
  },
  {
   "cell_type": "code",
   "execution_count": null,
   "metadata": {},
   "outputs": [],
   "source": []
  }
 ]
}