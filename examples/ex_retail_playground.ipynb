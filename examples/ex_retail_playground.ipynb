{
 "cells": [
  {
   "cell_type": "markdown",
   "metadata": {},
   "source": [
    "# Retail Playground\n",
    "\n",
    "This is just a file for me to make random calls to the Retail API to try something, or do some one off fix."
   ]
  },
  {
   "cell_type": "code",
   "execution_count": 1,
   "metadata": {
    "tags": []
   },
   "outputs": [
    {
     "output_type": "stream",
     "name": "stderr",
     "text": [
      "2021-03-04 21:23:26,452 - DEBUG - Start of program\n"
     ]
    }
   ],
   "source": [
    "import logging\n",
    "import requests\n",
    "import json\n",
    "import pandas as pd\n",
    "\n",
    "# Start logging\n",
    "logging.basicConfig(level=logging.DEBUG, format='%(asctime)s - %(levelname)s - %(message)s')\n",
    "logging.debug('Start of program')\n"
   ]
  },
  {
   "cell_type": "markdown",
   "metadata": {},
   "source": [
    "## Import the Module\n",
    "Make sure your environment paths are set correctly if you are getting module not found errors."
   ]
  },
  {
   "cell_type": "code",
   "execution_count": 3,
   "metadata": {},
   "outputs": [],
   "source": [
    "sys.path.append('D:\\\\Development\\\\Repositories\\\\WineFoundry\\\\pyLightspeed')\n",
    "from lsretail import api_dev as lsretail\n",
    "from lsecom import api_dev as lsecom"
   ]
  },
  {
   "cell_type": "markdown",
   "metadata": {},
   "source": [
    "## Get Keys\n",
    "This example uses a file you will have to create on your local machine to store keys. This is not best practice - you should probably store your keys in environment variables - but is simpler for people just trying to test and play. See the example files in example\\data and adjust with your information."
   ]
  },
  {
   "cell_type": "code",
   "execution_count": null,
   "metadata": {},
   "outputs": [],
   "source": [
    "KEY_FILE = \"D:\\Development\\.keys\\lightspeed_keys.json\"\n",
    "\n",
    "with open(KEY_FILE) as f:\n",
    "    keys = json.load(f)\n",
    "\n",
    "store_data = {\n",
    "            'account_id': keys[\"account_id\"],\n",
    "            'save_path': 'D:\\\\Development\\\\.keys\\\\'\n",
    "            }\n",
    "\n",
    "credentials = {\n",
    "            'client_id': keys[\"client_id\"],\n",
    "            'client_secret': keys[\"client_secret\"],\n",
    "            'api_key': keys[\"api_key\"],\n",
    "            'api_secret': keys[\"api_secret\"]\n",
    "            }"
   ]
  },
  {
   "cell_type": "markdown",
   "metadata": {},
   "source": [
    "## Create a Connection\n",
    "Call the connection class, which will return an active connection to Lightspeed."
   ]
  },
  {
   "cell_type": "code",
   "execution_count": null,
   "metadata": {
    "tags": []
   },
   "outputs": [],
   "source": [
    "# Creates the connection to lightspeed, and returns a connection object with useful properties\n",
    "lsr = lsretail.Connection(store_data, credentials)\n"
   ]
  },
  {
   "cell_type": "code",
   "execution_count": null,
   "metadata": {},
   "outputs": [],
   "source": []
  },
  {
   "cell_type": "markdown",
   "metadata": {},
   "source": [
    "## Update a Sales Line\n",
    "\n",
    "By default, customers (who probably gave you their emails) do not have the box checked to allow emails. This goes through How can I recalculate or reset avgCost in a SalesLine\n"
   ]
  },
  {
   "cell_type": "code",
   "execution_count": null,
   "metadata": {
    "tags": []
   },
   "outputs": [],
   "source": [
    "data = {\"unitPrice\": 72.01}\n",
    "\n",
    "lsr.update(\"SaleLine\", 21322, data)"
   ]
  },
  {
   "cell_type": "code",
   "execution_count": null,
   "metadata": {},
   "outputs": [],
   "source": []
  }
 ],
 "metadata": {
  "language_info": {
   "name": "python",
   "codemirror_mode": {
    "name": "ipython",
    "version": 3
   },
   "version": "3.8.5-final"
  },
  "orig_nbformat": 2,
  "file_extension": ".py",
  "mimetype": "text/x-python",
  "name": "python",
  "npconvert_exporter": "python",
  "pygments_lexer": "ipython3",
  "version": 3,
  "kernelspec": {
   "name": "python3",
   "display_name": "Python 3",
   "language": "python"
  }
 },
 "nbformat": 4,
 "nbformat_minor": 2
}