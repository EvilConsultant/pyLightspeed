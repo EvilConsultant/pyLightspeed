{
 "cells": [
  {
   "cell_type": "code",
   "execution_count": 92,
   "metadata": {},
   "outputs": [],
   "source": [
    "import requests\n",
    "import os\n",
    "import json\n",
    "from bs4 import BeautifulSoup\n",
    "from urllib.parse import urlparse\n",
    "\n",
    "import mysql.connector"
   ]
  },
  {
   "cell_type": "code",
   "execution_count": 37,
   "metadata": {},
   "outputs": [],
   "source": [
    "from pyLightspeed.lsretail import api as lsretail\n",
    "from pyLightspeed.lsecom import api as lsecom"
   ]
  },
  {
   "cell_type": "code",
   "execution_count": 94,
   "metadata": {},
   "outputs": [],
   "source": [
    "\n",
    "#establishing the connection\n",
    "conn = mysql.connector.connect(\n",
    "   user='jamie', password='W!neL0ver', host='127.0.0.1', database='vintagewine')\n",
    "\n",
    "#Creating a cursor object using the cursor() method\n",
    "cursor = conn.cursor()"
   ]
  },
  {
   "cell_type": "code",
   "execution_count": 38,
   "metadata": {},
   "outputs": [],
   "source": [
    "KEY_FILE = \"D:\\Development\\.keys\\lightspeed_keys.json\"\n",
    "\n",
    "with open(KEY_FILE) as f:\n",
    "    keys = json.load(f)\n",
    "\n",
    "store_data = {\n",
    "            'account_id': keys[\"account_id\"],\n",
    "            'save_path': 'D:\\\\Development\\\\.keys\\\\'\n",
    "            }\n",
    "\n",
    "credentials = {\n",
    "            'client_id': keys[\"client_id\"],\n",
    "            'client_secret': keys[\"client_secret\"],\n",
    "            'api_key': keys[\"api_key\"],\n",
    "            'api_secret': keys[\"api_secret\"]\n",
    "            }"
   ]
  },
  {
   "cell_type": "code",
   "execution_count": 39,
   "metadata": {},
   "outputs": [],
   "source": [
    "lsr = lsretail.Connection(store_data, credentials)"
   ]
  },
  {
   "cell_type": "code",
   "execution_count": 40,
   "metadata": {},
   "outputs": [],
   "source": [
    "page_link = 'https://www.wine.com/product/ridge-pagani-ranch-zinfandel-2016/510360'\n",
    "item_id = '994'\n",
    "system_id = '210000000998'\n",
    "\n",
    "image_path = 'D:\\\\Data\\\\'\n",
    "# this is the url that we've already determined is safe and legal to scrape from.\n",
    "headers = {'User-Agent': 'Mozilla/5.0 (Windows NT 6.3; Win64; x64) AppleWebKit/537.36 (KHTML, like Gecko) Chrome/54.0.2840.71 Safari/537.36'}"
   ]
  },
  {
   "cell_type": "code",
   "execution_count": 41,
   "metadata": {},
   "outputs": [],
   "source": [
    "\n",
    "page_response = requests.get(page_link, headers=headers, timeout=5)\n",
    "# here, we fetch the content from the url, using the requests library\n",
    "page_content = BeautifulSoup(page_response.content, \"html.parser\")\n",
    "#we use the html parser to parse the url content and store it in a variable.\n",
    "textContent = []\n"
   ]
  },
  {
   "cell_type": "code",
   "execution_count": 42,
   "metadata": {},
   "outputs": [],
   "source": [
    "def process_image(url, image_path, filename, item_id, description = \"Image\", ordering = 0):\n",
    "    with open(image_path+filename, \"wb\") as f:\n",
    "        f.write(requests.get(url).content)\n",
    "    url = lsr.api_url+'Image.json'\n",
    "    \n",
    "    files = {'image': (filename, open(image_path + filename, 'rb'), 'image/jpeg')}\n",
    "    payload = {'data': '{\"description\": \"' + description + '\", \"ordering\": ' + ordering +', \"itemID\": ' + item_id +'}'}\n",
    "    r = requests.post(url, files=files, data=payload, headers=lsr.headers)\n",
    "    print(r.text)"
   ]
  },
  {
   "cell_type": "markdown",
   "metadata": {},
   "source": [
    "# Get Content\n",
    "Get's the content from the page\n"
   ]
  },
  {
   "cell_type": "code",
   "execution_count": 45,
   "metadata": {},
   "outputs": [],
   "source": [
    "description = page_content.find(class_='viewMoreModule_text')\n",
    "description_text = page_content.find(class_='viewMoreModule_text').text"
   ]
  },
  {
   "cell_type": "code",
   "execution_count": 35,
   "metadata": {},
   "outputs": [
    {
     "output_type": "execute_result",
     "data": {
      "text/plain": "[]"
     },
     "metadata": {},
     "execution_count": 35
    }
   ],
   "source": [
    "page_content.select('body > div.corePage.winePage > main > section.pipSecContent > section.pipSecContent_topSection > div.pipWineNotes > div > div.viewMoreModule_text')\n"
   ]
  },
  {
   "cell_type": "code",
   "execution_count": 67,
   "metadata": {},
   "outputs": [
    {
     "output_type": "execute_result",
     "data": {
      "text/plain": "[<div class=\"pipProfessionalReviews_list\"><div class=\"pipProfessionalReviews_rating\"><span class=\"wineRatings_initials\">V</span> <span class=\"wineRatings_rating\">94</span></div><div class=\"pipProfessionalReviews_authorName\">Vinous</div><div class=\"pipProfessionalReviews_review\"><div class=\"pipSecContent_copy\">The 2016 Zinfandel Pagani Ranch is bright, focused and beautifully perfumed. Bright red cherry, blood orange, pomegranate, mint and rose petal notes are all lifted in this exquisite, finessed Zinfandel. Silky, medium in body and gracious, the 2016 is absolutely sublime. The oak is just a bit pronounced at this stage, but that should not be an issue over time.</div></div></div>,\n <div class=\"pipProfessionalReviews_list\"><div class=\"pipProfessionalReviews_rating\"><span class=\"wineRatings_initials\">RP</span> <span class=\"wineRatings_rating\">93</span></div><div class=\"pipProfessionalReviews_authorName\">Robert Parker's Wine Advocate</div><div class=\"pipProfessionalReviews_review\"><div class=\"pipSecContent_copy\">The 2016 Zinfandel Pagani Ranch is excellent, offering up a lavish bouquet of ripe cherries, raspberries and sweet spices. On the palate, it's medium to full-bodied, with an ample core of succulent, mouthwatering fruit structured around fine-grained, youthfully chewy tannins. Rich and concentrated, it's balanced by mouthwatering acids. It should be well worth following for the next 10-15 years.</div></div></div>,\n <div class=\"pipProfessionalReviews_list\"><div class=\"pipProfessionalReviews_rating\"><span class=\"wineRatings_initials\">JS</span> <span class=\"wineRatings_rating\">93</span></div><div class=\"pipProfessionalReviews_authorName\">James Suckling</div><div class=\"pipProfessionalReviews_review\"><div class=\"pipSecContent_copy\">A charmingly medium-bodied red that is a blend of 88 per cent zinfandel, nine per cent petite sirah and three per cent alicante bouschet. Raspberry and blueberry aromas deliver a fresh impression on the nose that leads to a crisply appealing palate with a brightly resolved finish. Drink or hold.</div></div></div>,\n <div class=\"pipProfessionalReviews_list\"><div class=\"pipProfessionalReviews_rating\"><span class=\"wineRatings_initials\">JD</span> <span class=\"wineRatings_rating\">93</span></div><div class=\"pipProfessionalReviews_authorName\">Jeb Dunnuck</div><div class=\"pipProfessionalReviews_review\"><div class=\"pipSecContent_copy\"><p> Made by John Olney, as well as in the Sonoma facility for the first time, the 2016 Zinfandel Pagani Ranch offers lots of smoke tobacco, dried herbs, and savory black and blue fruits to go with a medium-bodied, nicely balanced style on the palate. With fine tannins and rock-solid acidity, it’s another terrific wine that’s loaded with character. Drink it over the coming 10-15 years.</p></div></div></div>,\n <div class=\"pipProfessionalReviews_list\"><div class=\"pipProfessionalReviews_rating\"><span class=\"wineRatings_initials\">WS</span> <span class=\"wineRatings_rating\">91</span></div><div class=\"pipProfessionalReviews_authorName\">Wine Spectator</div><div class=\"pipProfessionalReviews_review\"><div class=\"pipSecContent_copy\">Brooding and dense in structure, offering appealing if eccentric black plum, smoky licorice and spice box flavors that finish with lively tannins. Best after 2019.</div></div></div>]"
     },
     "metadata": {},
     "execution_count": 67
    }
   ],
   "source": [
    "reviews = page_content.select('div.pipProfessionalReviews_list')\n",
    "reviews"
   ]
  },
  {
   "cell_type": "code",
   "execution_count": 85,
   "metadata": {},
   "outputs": [
    {
     "output_type": "execute_result",
     "data": {
      "text/plain": "[<span class=\"wineRatings_initials\">RP</span>]"
     },
     "metadata": {},
     "execution_count": 85
    }
   ],
   "source": [
    "reviews[1].select('span[class=\"wineRatings_initials\"]')"
   ]
  },
  {
   "cell_type": "code",
   "execution_count": 106,
   "metadata": {},
   "outputs": [
    {
     "output_type": "error",
     "ename": "MySQLInterfaceError",
     "evalue": "Python type Tag cannot be converted",
     "traceback": [
      "\u001b[1;31m---------------------------------------------------------------------------\u001b[0m",
      "\u001b[1;31mMySQLInterfaceError\u001b[0m                       Traceback (most recent call last)",
      "\u001b[1;32m<ipython-input-106-c2e43cf0d824>\u001b[0m in \u001b[0;36m<module>\u001b[1;34m\u001b[0m\n\u001b[0;32m     18\u001b[0m         }\n\u001b[0;32m     19\u001b[0m \u001b[1;33m\u001b[0m\u001b[0m\n\u001b[1;32m---> 20\u001b[1;33m     \u001b[0mcursor\u001b[0m\u001b[1;33m.\u001b[0m\u001b[0mexecute\u001b[0m\u001b[1;33m(\u001b[0m\u001b[0msql\u001b[0m\u001b[1;33m,\u001b[0m \u001b[0mdata\u001b[0m\u001b[1;33m)\u001b[0m\u001b[1;33m\u001b[0m\u001b[1;33m\u001b[0m\u001b[0m\n\u001b[0m\u001b[0;32m     21\u001b[0m \u001b[1;33m\u001b[0m\u001b[0m\n\u001b[0;32m     22\u001b[0m \u001b[1;33m\u001b[0m\u001b[0m\n",
      "\u001b[1;32mD:\\Development\\Anaconda\\lib\\site-packages\\mysql\\connector\\cursor_cext.py\u001b[0m in \u001b[0;36mexecute\u001b[1;34m(self, operation, params, multi)\u001b[0m\n\u001b[0;32m    246\u001b[0m \u001b[1;33m\u001b[0m\u001b[0m\n\u001b[0;32m    247\u001b[0m         \u001b[1;32mif\u001b[0m \u001b[0mparams\u001b[0m\u001b[1;33m:\u001b[0m\u001b[1;33m\u001b[0m\u001b[1;33m\u001b[0m\u001b[0m\n\u001b[1;32m--> 248\u001b[1;33m             \u001b[0mprepared\u001b[0m \u001b[1;33m=\u001b[0m \u001b[0mself\u001b[0m\u001b[1;33m.\u001b[0m\u001b[0m_cnx\u001b[0m\u001b[1;33m.\u001b[0m\u001b[0mprepare_for_mysql\u001b[0m\u001b[1;33m(\u001b[0m\u001b[0mparams\u001b[0m\u001b[1;33m)\u001b[0m\u001b[1;33m\u001b[0m\u001b[1;33m\u001b[0m\u001b[0m\n\u001b[0m\u001b[0;32m    249\u001b[0m             \u001b[1;32mif\u001b[0m \u001b[0misinstance\u001b[0m\u001b[1;33m(\u001b[0m\u001b[0mprepared\u001b[0m\u001b[1;33m,\u001b[0m \u001b[0mdict\u001b[0m\u001b[1;33m)\u001b[0m\u001b[1;33m:\u001b[0m\u001b[1;33m\u001b[0m\u001b[1;33m\u001b[0m\u001b[0m\n\u001b[0;32m    250\u001b[0m                 \u001b[1;32mfor\u001b[0m \u001b[0mkey\u001b[0m\u001b[1;33m,\u001b[0m \u001b[0mvalue\u001b[0m \u001b[1;32min\u001b[0m \u001b[0mprepared\u001b[0m\u001b[1;33m.\u001b[0m\u001b[0mitems\u001b[0m\u001b[1;33m(\u001b[0m\u001b[1;33m)\u001b[0m\u001b[1;33m:\u001b[0m\u001b[1;33m\u001b[0m\u001b[1;33m\u001b[0m\u001b[0m\n",
      "\u001b[1;32mD:\\Development\\Anaconda\\lib\\site-packages\\mysql\\connector\\connection_cext.py\u001b[0m in \u001b[0;36mprepare_for_mysql\u001b[1;34m(self, params)\u001b[0m\n\u001b[0;32m    628\u001b[0m             \u001b[0mresult\u001b[0m \u001b[1;33m=\u001b[0m \u001b[1;33m{\u001b[0m\u001b[1;33m}\u001b[0m\u001b[1;33m\u001b[0m\u001b[1;33m\u001b[0m\u001b[0m\n\u001b[0;32m    629\u001b[0m             \u001b[1;32mfor\u001b[0m \u001b[0mkey\u001b[0m\u001b[1;33m,\u001b[0m \u001b[0mvalue\u001b[0m \u001b[1;32min\u001b[0m \u001b[0mparams\u001b[0m\u001b[1;33m.\u001b[0m\u001b[0mitems\u001b[0m\u001b[1;33m(\u001b[0m\u001b[1;33m)\u001b[0m\u001b[1;33m:\u001b[0m\u001b[1;33m\u001b[0m\u001b[1;33m\u001b[0m\u001b[0m\n\u001b[1;32m--> 630\u001b[1;33m                 \u001b[0mresult\u001b[0m\u001b[1;33m[\u001b[0m\u001b[0mkey\u001b[0m\u001b[1;33m]\u001b[0m \u001b[1;33m=\u001b[0m \u001b[0mself\u001b[0m\u001b[1;33m.\u001b[0m\u001b[0m_cmysql\u001b[0m\u001b[1;33m.\u001b[0m\u001b[0mconvert_to_mysql\u001b[0m\u001b[1;33m(\u001b[0m\u001b[0mvalue\u001b[0m\u001b[1;33m)\u001b[0m\u001b[1;33m[\u001b[0m\u001b[1;36m0\u001b[0m\u001b[1;33m]\u001b[0m\u001b[1;33m\u001b[0m\u001b[1;33m\u001b[0m\u001b[0m\n\u001b[0m\u001b[0;32m    631\u001b[0m         \u001b[1;32melse\u001b[0m\u001b[1;33m:\u001b[0m\u001b[1;33m\u001b[0m\u001b[1;33m\u001b[0m\u001b[0m\n\u001b[0;32m    632\u001b[0m             \u001b[1;32mraise\u001b[0m \u001b[0mValueError\u001b[0m\u001b[1;33m(\u001b[0m\u001b[1;34m\"Could not process parameters\"\u001b[0m\u001b[1;33m)\u001b[0m\u001b[1;33m\u001b[0m\u001b[1;33m\u001b[0m\u001b[0m\n",
      "\u001b[1;31mMySQLInterfaceError\u001b[0m: Python type Tag cannot be converted"
     ]
    }
   ],
   "source": [
    "# This is an attempt to get stuf to write in to the DB, but it failed\n",
    "for review in reviews:\n",
    "    initials = review.select('span[class=\"wineRatings_initials\"]')[0].text\n",
    "    rating = review.select('span[class=\"wineRatings_rating\"]')[0].text\n",
    "    author = review.select('div[class=\"pipProfessionalReviews_authorName\"]')[0].text\n",
    "    review_detail = review.select('div[class=\"pipProfessionalReviews_review\"]')[0].text\n",
    "    review_html = review.select('div[class=\"pipProfessionalReviews_review\"]')[0]\n",
    "   \n",
    "    \n",
    "    sql = \"INSERT INTO wine_reviews(source, initials, review_detail, review_html, wine_itemID, wine_systemSKU, url) VALUES ('%(author)s', '%(initials)s', '%(review_detail)s', '%(review_html)s', %(item_id)s, %(system_id)s, '%(page_link)s')\"\n",
    "    data = {\n",
    "        'author': author,\n",
    "        'initials': initials,\n",
    "        'review_detail': review_detail,\n",
    "        'review_html': review_html, \n",
    "        'item_id': item_id,\n",
    "        'system_id': system_id,\n",
    "        'page_link': page_link\n",
    "        }\n",
    "    \n",
    "    cursor.execute(sql, data)\n",
    "\n",
    "\n"
   ]
  },
  {
   "cell_type": "code",
   "execution_count": null,
   "metadata": {},
   "outputs": [],
   "source": [
    " \n",
    "# This is an attempt to get stuf to write in to the DB, but it failed\n",
    "for review in reviews:\n",
    "    initials = review.select('span[class=\"wineRatings_initials\"]')[0].text\n",
    "    rating = review.select('span[class=\"wineRatings_rating\"]')[0].text\n",
    "    author = review.select('div[class=\"pipProfessionalReviews_authorName\"]')[0].text\n",
    "    review_detail = review.select('div[class=\"pipProfessionalReviews_review\"]')[0].text\n",
    "    review_html = review.select('div[class=\"pipProfessionalReviews_review\"]')[0]\n",
    "   \n",
    "    \n",
    "    sql = \"INSERT INTO wine_reviews(source, initials, review_detail, review_html, wine_itemID, wine_systemSKU, url) VALUES ('%(author)s', '%(initials)s', '%(review_detail)s', '%(review_html)s', %(item_id)s, %(system_id)s, '%(page_link)s')\"\n",
    "    data = {\n",
    "        'author': author,\n",
    "        'initials': initials,\n",
    "        'review_detail': review_detail,\n",
    "        'review_html': review_html, \n",
    "        'item_id': item_id,\n",
    "        'system_id': system_id,\n",
    "        'page_link': page_link\n",
    "        }\n",
    "    \n",
    "    cursor.execute(sql, data)\n",
    "\n",
    "\n"
   ]
  },
  {
   "cell_type": "markdown",
   "metadata": {},
   "source": [
    "# Do the Images\n",
    "Gets the wine images off the page, catches all the information, stores it, and puts the image in Lightspeed via API"
   ]
  },
  {
   "cell_type": "code",
   "execution_count": 8,
   "metadata": {},
   "outputs": [
    {
     "output_type": "execute_result",
     "data": {
      "text/plain": "[<img alt=\"Ridge Pagani Ranch Zinfandel 2016 Front Label\" class=\"pipThumb_image pipThumb_img-0\" src=\"/product/images/w_75,h_75,c_pad,fl_progressive/mlmzi1ovp1hwnj6zaqtn.jpg\"/>,\n <img alt=\"Ridge Pagani Ranch Zinfandel 2016  Front Bottle Shot\" class=\"pipThumb_image pipThumb_img-1\" src=\"/product/images/w_75,h_75,c_pad,fl_progressive/dtdjzop7jqszgwspquu8.jpg\"/>]"
     },
     "metadata": {},
     "execution_count": 8
    }
   ],
   "source": [
    "# images=page_content.select('body > div.corePage.winePage > main > section.pipMainContent > div.pipHero.prodImageZoom.js-thumbs-enabled > div.pipHero_wrapper > div > picture > img')\n",
    "# images = page_content.get('img')\n",
    "images = page_content.find_all(class_='pipThumb_image')\n",
    "images"
   ]
  },
  {
   "cell_type": "code",
   "execution_count": 13,
   "metadata": {},
   "outputs": [
    {
     "output_type": "stream",
     "name": "stdout",
     "text": "{\"httpCode\":\"401\",\"httpMessage\":\"Unauthorized\",\"message\":\"Invalid access token.\",\"errorClass\":\"BadAuthenticationRequestException\"}\nThis is Ridge Pagani Ranch Zinfandel 2016 Front Label from /product/images/w_75,h_75,c_pad,fl_progressive/mlmzi1ovp1hwnj6zaqtn.jpg saved as 210000000998_lbl.jpg\n{\"httpCode\":\"401\",\"httpMessage\":\"Unauthorized\",\"message\":\"Invalid access token.\",\"errorClass\":\"BadAuthenticationRequestException\"}\nThis is Ridge Pagani Ranch Zinfandel 2016  Front Bottle Shot from /product/images/w_75,h_75,c_pad,fl_progressive/dtdjzop7jqszgwspquu8.jpg saved as 210000000998_btl.jpg\n"
    }
   ],
   "source": [
    "for image in images:\n",
    "    # urlparse will take the url from the image link...\n",
    "    a = urlparse(image.get('src'))\n",
    "    # Then we split out the filename and the extension\n",
    "    (sourcefilename, ext) = os.path.splitext(os.path.basename(a.path))\n",
    "    link = 'https://www.wine.com/product/images/'+ os.path.basename(a.path)\n",
    "    ordering = \"0\"\n",
    "\n",
    "    if \"Bottle\" in image.get('alt'):\n",
    "        filename = system_id + '_btl'+ ext\n",
    "        ordering = \"1\"\n",
    "    elif \"Label\" in image.get('alt'):\n",
    "        filename = system_id + '_lbl'+ ext\n",
    "        ordering = \"2\"    \n",
    "    else:\n",
    "        filename = system_id + sourcefilename + ext\n",
    "    process_image(link, image_path, filename, item_id, description = image.get('alt'), ordering = ordering)\n",
    "    print(f\"This is {image.get('alt')} from {a.path} saved as {filename}\")\n",
    "    "
   ]
  },
  {
   "cell_type": "code",
   "execution_count": null,
   "metadata": {},
   "outputs": [],
   "source": [
    "\n",
    "url = 'https://api.lightspeedapp.com/API/Account/190211/Image.json'\n",
    "files = {'image': ('210000001629_btl.jpg', open(image_path+'210000001629_btl.jpg', 'rb'), 'image/jpeg')}\n",
    "payload = {'data': '{\"description\": \"Ridge Pagani Ranch Zinfandel 2016 Front Label\", \"ordering\": 2, \"itemID\": ' + item_id +'}'}\n",
    "\n",
    "r = requests.post(url, files=files, data=payload, headers=lsr.headers)\n",
    "\n",
    "print(r.text)"
   ]
  },
  {
   "cell_type": "code",
   "execution_count": 72,
   "metadata": {},
   "outputs": [
    {
     "output_type": "stream",
     "name": "stdout",
     "text": "<!DOCTYPE doctype html>\n<html class=\"loading\" data-view1=\"true\" data-view1_10=\"true\" data-view1_9=\"true\" lang=\"en\" xml:lang=\"en\">\n <head>\n  <meta content=\"Wine\" name=\"salesChannel\"/>\n  <meta content=\"Zinfandel\" name=\"productVarietal\"/>\n  <meta content=\"Sonoma Valley\" name=\"productRegion\"/>\n  <meta content=\"$48.99\" name=\"productPrice\"/>\n  <meta content=\"Sonoma Valley, Sonoma County, California\" name=\"productOrigin\"/>\n  <meta content=\"510360\" name=\"productID\"/>\n  <meta content=\"In Stock\" name=\"ProductAvailability\"/>\n  <meta content=\"SOU913205_2016\" name=\"pProductID\"/>\n  <meta content=\"Product Detail\" name=\"pageType\"/>\n  <meta content=\"Ridge Pagani Ranch Zinfandel 2016 from Sonoma Valley, Sonoma County, California - Black cherry, pepper and chaparral on the nose. Briary red fruit, well defined, chalky tannins and refreshing acidity on the palate. Long sensuous finish. Since...\" name=\"description\"/>\n  <meta content=\"true\" name=\"CartLoaded\"/>\n  <meta content=\"\" name=\"PromoCode\"/>\n  <meta content=\"$0.00\" name=\"cart_estimatedTotal\"/>\n  <meta content=\"$0.00\" name=\"cart_estimatedTax\"/>\n  <meta content=\"$0.00\" name=\"cart_estimatedFreight\"/>\n  <meta content=\"0\" name=\"cart_productCount\"/>\n  <meta content=\"$0.00\" name=\"cart_productTotal\"/>\n  <meta content=\"\" name=\"cart_productUnitPrice\"/>\n  <meta content=\"\" name=\"cart_productQuantity\"/>\n  <meta content=\"\" name=\"cart_productName\"/>\n  <meta content=\"\" name=\"cart_productId\"/>\n  <meta content=\"\" name=\"cart_productTemplateId\"/>\n  <meta content=\"\" name=\"cart_guid\"/>\n  <meta content=\"notranslate\" name=\"google\"/>\n  <meta content=\"10\" name=\"server\"/>\n  <meta content=\"width=device-width, initial-scale=1.0, maximum-scale=1.0, minimum-scale=1.0, user-scalable=no\" name=\"viewport\"/>\n  <meta content=\"#ffffff\" name=\"theme-color\"/>\n  <meta content=\"mstile-144x144.png\" name=\"msapplication-TileImage\"/>\n  <meta content=\"#ffc40d\" name=\"msapplication-TileColor\"/>\n  <meta name=\"msvalidate.01\"/>\n  <meta content=\"2B5A_fDGneLhYahfXIdTNx_A9hOIMJ8xIObKRykQ\n"
    }
   ],
   "source": [
    "# This prints out the document in a formatted tree style and limits the number of characters returned\n",
    "print(page_content.prettify()[0:2000])"
   ]
  },
  {
   "cell_type": "code",
   "execution_count": null,
   "metadata": {},
   "outputs": [],
   "source": [
    "page_content.select('body > div.lightBox > div.lightBoxContentWrap > span.lightBoxContent > img.lightBoxContent_image.lightBoxContent_image-active')"
   ]
  },
  {
   "cell_type": "code",
   "execution_count": null,
   "metadata": {},
   "outputs": [],
   "source": [
    "images[1].get('class')[0]\n"
   ]
  },
  {
   "cell_type": "code",
   "execution_count": null,
   "metadata": {},
   "outputs": [],
   "source": [
    "a = urlparse(images[0].get('src'))\n",
    "print(a.path)                    # Output: /kyle/09-09-201315-47-571378756077.jpg\n",
    "print(os.path.basename(a.path))  # Output: 09-09-201315-47-571378756077.jpg"
   ]
  },
  {
   "cell_type": "code",
   "execution_count": null,
   "metadata": {},
   "outputs": [],
   "source": [
    "link = images[0].attrs\n",
    "link"
   ]
  },
  {
   "cell_type": "markdown",
   "metadata": {},
   "source": [
    "# Put the images in Lightspeed Retail"
   ]
  },
  {
   "cell_type": "code",
   "execution_count": null,
   "metadata": {},
   "outputs": [],
   "source": []
  },
  {
   "cell_type": "markdown",
   "metadata": {},
   "source": [
    "# Descriptions\n",
    "This is some of the Descriptions"
   ]
  },
  {
   "cell_type": "code",
   "execution_count": null,
   "metadata": {},
   "outputs": [],
   "source": [
    "page_content.select('body > div.corePage.winePage > main > section.pipSecContent > section.pipSecContent_topSection > div.pipWineNotes')"
   ]
  },
  {
   "cell_type": "code",
   "execution_count": null,
   "metadata": {},
   "outputs": [],
   "source": [
    "page_content.select(\"img[src^=http]\")"
   ]
  },
  {
   "cell_type": "code",
   "execution_count": null,
   "metadata": {},
   "outputs": [],
   "source": [
    "for image in images:\n",
    "        lnk = link[\"src\"]\n",
    "\n"
   ]
  }
 ],
 "metadata": {
  "language_info": {
   "codemirror_mode": {
    "name": "ipython",
    "version": 3
   },
   "file_extension": ".py",
   "mimetype": "text/x-python",
   "name": "python",
   "nbconvert_exporter": "python",
   "pygments_lexer": "ipython3",
   "version": "3.7.4-final"
  },
  "orig_nbformat": 2,
  "kernelspec": {
   "name": "python3",
   "display_name": "Python 3"
  }
 },
 "nbformat": 4,
 "nbformat_minor": 2
}